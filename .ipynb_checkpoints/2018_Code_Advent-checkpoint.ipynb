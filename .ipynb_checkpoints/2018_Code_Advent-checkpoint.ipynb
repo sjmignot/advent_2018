{
 "cells": [
  {
   "cell_type": "markdown",
   "metadata": {},
   "source": [
    "# SETUP"
   ]
  },
  {
   "cell_type": "markdown",
   "metadata": {},
   "source": [
    "## imports"
   ]
  },
  {
   "cell_type": "code",
   "execution_count": 42,
   "metadata": {},
   "outputs": [],
   "source": [
    "import string\n",
    "import numpy as np\n",
    "from itertools import cycle\n",
    "import requests\n",
    "import collections\n",
    "from pprint import pprint as print"
   ]
  },
  {
   "cell_type": "markdown",
   "metadata": {},
   "source": [
    "## constants"
   ]
  },
  {
   "cell_type": "code",
   "execution_count": 43,
   "metadata": {},
   "outputs": [],
   "source": [
    "lowercase=string.ascii_lowercase"
   ]
  },
  {
   "cell_type": "markdown",
   "metadata": {},
   "source": [
    "## helpers"
   ]
  },
  {
   "cell_type": "code",
   "execution_count": 85,
   "metadata": {
    "scrolled": true
   },
   "outputs": [],
   "source": [
    "def get_level_input(lvl_num):\n",
    "    with open('advent_inputs/%d.txt' %lvl_num) as f:\n",
    "        level_input=f.read()\n",
    "        return level_input[:-1]\n",
    "    \n",
    "def print_result(answer):\n",
    "    print(\"RESULT: \"+str(answer)+\"\\n\")\n",
    "    print(\"TIME\"+\".\"*60)\n",
    "    \n",
    "class StopExecution(Exception):\n",
    "    def _render_traceback_(self):\n",
    "        pass"
   ]
  },
  {
   "cell_type": "markdown",
   "metadata": {},
   "source": [
    "# LEVEL 1"
   ]
  },
  {
   "cell_type": "markdown",
   "metadata": {},
   "source": [
    "## setup"
   ]
  },
  {
   "cell_type": "code",
   "execution_count": 34,
   "metadata": {},
   "outputs": [],
   "source": [
    "polymers=get_level_input(1)"
   ]
  },
  {
   "cell_type": "markdown",
   "metadata": {},
   "source": [
    "## part one"
   ]
  },
  {
   "cell_type": "code",
   "execution_count": 27,
   "metadata": {},
   "outputs": [
    {
     "name": "stdout",
     "output_type": "stream",
     "text": [
      "3500\n"
     ]
    }
   ],
   "source": [
    "polymer_temp=polymers\n",
    "i=0\n",
    "while i!=len(polymer_temp)-1:\n",
    "    if(abs(ord(polymer_temp[i])-ord(polymer_temp[i+1]))==32):\n",
    "        polymer_temp=polymer_temp[0:i]+polymer_temp[i+2:]\n",
    "        i=max(0,i-1)\n",
    "    else:\n",
    "        i+=1\n",
    "print(len(polymer_temp))"
   ]
  },
  {
   "cell_type": "markdown",
   "metadata": {},
   "source": [
    "## part two"
   ]
  },
  {
   "cell_type": "code",
   "execution_count": 57,
   "metadata": {},
   "outputs": [
    {
     "name": "stdout",
     "output_type": "stream",
     "text": [
      "3500\n"
     ]
    }
   ],
   "source": [
    "scores=[]\n",
    "for letter in lowercase:\n",
    "    polymer_temp=polymers\n",
    "    i=0\n",
    "    polymer_temp=polymer_temp.translate(str.maketrans('', '', letter+letter.upper()))\n",
    "    while i!=len(polymer_temp)-1:\n",
    "        if(abs(ord(polymer_temp[i])-ord(polymer_temp[i+1]))==32):\n",
    "            polymer_temp=polymer_temp[0:i]+polymer_temp[i+2:]\n",
    "            i=max(0,i-1)\n",
    "        else:\n",
    "            i+=1\n",
    "    scores.append(len(polymer_temp))\n",
    "print(min(scores))"
   ]
  },
  {
   "cell_type": "markdown",
   "metadata": {},
   "source": [
    "# LEVEL 2"
   ]
  },
  {
   "cell_type": "markdown",
   "metadata": {},
   "source": [
    "## setup"
   ]
  },
  {
   "cell_type": "code",
   "execution_count": 60,
   "metadata": {},
   "outputs": [
    {
     "name": "stdout",
     "output_type": "stream",
     "text": [
      "RESULT: Counter({'x': 2, 'd': 2, 'f': 2, 'q': 1, 'c': 1, 's': 1, 'n': 1, 'y': 1, 'v': 1, 'p': 1, 'i': 1, 'g': 1, 'k': 1, 'm': 1, 'r': 1, 'a': 1, 'w': 1, 'l': 1, 'e': 1, 'o': 1, 't': 1, 'b': 1, 'h': 1})\n",
      "\n",
      "time............................................................\n",
      "CPU times: user 2.77 ms, sys: 1.15 ms, total: 3.92 ms\n",
      "Wall time: 3.14 ms\n"
     ]
    }
   ],
   "source": [
    "%%time\n",
    "input_boxes=get_level_input(2)\n",
    "input_boxes=input_boxes.split('\\n')\n",
    "count_boxes = [collections.Counter(a) for a in input_boxes]\n",
    "print_result(count_boxes[0])"
   ]
  },
  {
   "cell_type": "markdown",
   "metadata": {},
   "source": [
    "## part one"
   ]
  },
  {
   "cell_type": "code",
   "execution_count": 74,
   "metadata": {},
   "outputs": [
    {
     "name": "stderr",
     "output_type": "stream",
     "text": [
      "UsageError: Line magic function `%%time` not found.\n"
     ]
    }
   ],
   "source": [
    "%%time\n",
    "twos=0\n",
    "threes=0\n",
    "for box_id in count_boxes:\n",
    "    if 2 in box_id.values():\n",
    "        twos+=1\n",
    "    if 3 in box_id.values():\n",
    "        threes+=1\n",
    "print_result(str(twos*threes))"
   ]
  },
  {
   "cell_type": "markdown",
   "metadata": {},
   "source": [
    "## part two"
   ]
  },
  {
   "cell_type": "code",
   "execution_count": 67,
   "metadata": {},
   "outputs": [
    {
     "name": "stdout",
     "output_type": "stream",
     "text": [
      "RESULT: qcslyvphgkrmdawljuefotxbh\n",
      "\n",
      "time............................................................\n"
     ]
    }
   ],
   "source": [
    "%%time\n",
    "for i, box_one in enumerate(input_boxes):\n",
    "    for box_two in input_boxes[i+1:]:\n",
    "        diff=0\n",
    "        wrong_letter_index=0\n",
    "        for j in range(len(box_one)):\n",
    "            if box_one[j]==box_two[j]: continue\n",
    "            diff+=1\n",
    "            wrong_letter_index=j\n",
    "            if(diff>1): break\n",
    "        if(diff==1): \n",
    "            print_result(box_one[:wrong_letter_index]+box_one[wrong_letter_index+1:])\n",
    "            raise StopExecution     "
   ]
  },
  {
   "cell_type": "markdown",
   "metadata": {},
   "source": [
    "# LEVEL 3"
   ]
  },
  {
   "cell_type": "markdown",
   "metadata": {},
   "source": [
    "## setup"
   ]
  },
  {
   "cell_type": "code",
   "execution_count": 13,
   "metadata": {},
   "outputs": [],
   "source": [
    "fabric_list=get_level_input(3).splitlines()"
   ]
  },
  {
   "cell_type": "code",
   "execution_count": 14,
   "metadata": {},
   "outputs": [],
   "source": [
    "fabric_list=[x.split(\" \") for x in fabric_list]"
   ]
  },
  {
   "cell_type": "code",
   "execution_count": 15,
   "metadata": {},
   "outputs": [
    {
     "data": {
      "text/plain": [
       "['#1', '@', '871,327:', '16x20']"
      ]
     },
     "execution_count": 15,
     "metadata": {},
     "output_type": "execute_result"
    }
   ],
   "source": [
    "fabric_list[0]"
   ]
  },
  {
   "cell_type": "markdown",
   "metadata": {},
   "source": [
    "## part one"
   ]
  },
  {
   "cell_type": "code",
   "execution_count": 70,
   "metadata": {},
   "outputs": [
    {
     "name": "stdout",
     "output_type": "stream",
     "text": [
      "RESULT: 101565\n",
      "\n",
      "time............................................................\n",
      "CPU times: user 1.86 s, sys: 9.67 ms, total: 1.87 s\n",
      "Wall time: 1.88 s\n"
     ]
    }
   ],
   "source": [
    "%%time\n",
    "fabric=np.zeros((1000,1000))\n",
    "for i in fabric_list:\n",
    "    dim=tuple([int(z) for z in i[2][:-1].split(\",\")])\n",
    "    size=tuple([int(z) for z in i[3].split(\"x\")])\n",
    "    fabric[dim[0]:dim[0]+size[0],dim[1]:dim[1]+size[1]]+=1\n",
    "    NUM_SINGLE_USED=(fabric > 1).sum()\n",
    "print_result(NUM_SINGLE_USED)"
   ]
  },
  {
   "cell_type": "markdown",
   "metadata": {},
   "source": [
    "## part two"
   ]
  },
  {
   "cell_type": "code",
   "execution_count": 71,
   "metadata": {},
   "outputs": [
    {
     "name": "stdout",
     "output_type": "stream",
     "text": [
      "RESULT: #656\n",
      "\n",
      "time............................................................\n",
      "CPU times: user 18.2 ms, sys: 3.59 ms, total: 21.8 ms\n",
      "Wall time: 19 ms\n"
     ]
    }
   ],
   "source": [
    "%%time\n",
    "for i in fabric_list:\n",
    "    dim=tuple([int(z) for z in i[2][:-1].split(\",\")])\n",
    "    size=tuple([int(z) for z in i[3].split(\"x\")])\n",
    "    if((fabric[dim[0]:dim[0]+size[0],dim[1]:dim[1]+size[1]]==1).all()):\n",
    "        print_result(i[0])"
   ]
  },
  {
   "cell_type": "markdown",
   "metadata": {},
   "source": [
    "# LEVEL 4"
   ]
  },
  {
   "cell_type": "markdown",
   "metadata": {},
   "source": [
    "## setup"
   ]
  },
  {
   "cell_type": "code",
   "execution_count": 31,
   "metadata": {},
   "outputs": [],
   "source": [
    "polymers=get_level_input(4)"
   ]
  },
  {
   "cell_type": "markdown",
   "metadata": {},
   "source": [
    "## part one"
   ]
  },
  {
   "cell_type": "code",
   "execution_count": 84,
   "metadata": {},
   "outputs": [
    {
     "name": "stdout",
     "output_type": "stream",
     "text": [
      "RESULT: 9202\n",
      "\n",
      "time............................................................\n",
      "CPU times: user 99.7 ms, sys: 5.51 ms, total: 105 ms\n",
      "Wall time: 104 ms\n"
     ]
    }
   ],
   "source": [
    "%%time\n",
    "polymer_temp=polymers\n",
    "i=0\n",
    "while i!=len(polymer_temp)-1:\n",
    "    if(abs(ord(polymer_temp[i])-ord(polymer_temp[i+1]))==32):\n",
    "        polymer_temp=polymer_temp[0:i]+polymer_temp[i+2:]\n",
    "        i=max(0,i-1)\n",
    "    else:\n",
    "        i+=1\n",
    "print_result(len(polymer_temp))"
   ]
  },
  {
   "cell_type": "markdown",
   "metadata": {},
   "source": [
    "## part two"
   ]
  },
  {
   "cell_type": "code",
   "execution_count": 83,
   "metadata": {},
   "outputs": [
    {
     "name": "stdout",
     "output_type": "stream",
     "text": [
      "RESULT: 6394\n",
      "\n",
      "time............................................................\n",
      "CPU times: user 2.28 s, sys: 86.2 ms, total: 2.37 s\n",
      "Wall time: 2.46 s\n"
     ]
    }
   ],
   "source": [
    "%%time\n",
    "scores=[]\n",
    "for letter in lowercase:\n",
    "    polymer_temp=polymers\n",
    "    i=0\n",
    "    polymer_temp=polymer_temp.translate(str.maketrans('', '', letter+letter.upper()))\n",
    "    while i!=len(polymer_temp)-1:\n",
    "        if(abs(ord(polymer_temp[i])-ord(polymer_temp[i+1]))==32):\n",
    "            polymer_temp=polymer_temp[0:i]+polymer_temp[i+2:]\n",
    "            i=max(0,i-1)\n",
    "        else:\n",
    "            i+=1\n",
    "    scores.append(len(polymer_temp))\n",
    "print_result(min(scores))"
   ]
  },
  {
   "cell_type": "markdown",
   "metadata": {},
   "source": [
    "# LEVEL 5"
   ]
  },
  {
   "cell_type": "markdown",
   "metadata": {},
   "source": [
    "## setup"
   ]
  },
  {
   "cell_type": "code",
   "execution_count": 81,
   "metadata": {},
   "outputs": [],
   "source": [
    "polymers=get_level_input(5)"
   ]
  },
  {
   "cell_type": "markdown",
   "metadata": {},
   "source": [
    "## part one"
   ]
  },
  {
   "cell_type": "code",
   "execution_count": 80,
   "metadata": {},
   "outputs": [
    {
     "name": "stdout",
     "output_type": "stream",
     "text": [
      "9202\n",
      "CPU times: user 101 ms, sys: 5.99 ms, total: 107 ms\n",
      "Wall time: 110 ms\n"
     ]
    }
   ],
   "source": [
    "%%time\n",
    "polymer_temp=polymers\n",
    "i=0\n",
    "while i!=len(polymer_temp)-1:\n",
    "    if(abs(ord(polymer_temp[i])-ord(polymer_temp[i+1]))==32):\n",
    "        polymer_temp=polymer_temp[0:i]+polymer_temp[i+2:]\n",
    "        i=max(0,i-1)\n",
    "    else:\n",
    "        i+=1\n",
    "print(len(polymer_temp))"
   ]
  },
  {
   "cell_type": "markdown",
   "metadata": {},
   "source": [
    "## part two"
   ]
  },
  {
   "cell_type": "code",
   "execution_count": 77,
   "metadata": {},
   "outputs": [
    {
     "name": "stdout",
     "output_type": "stream",
     "text": [
      "RESULT: 3500\n",
      "\n",
      "time............................................................\n",
      "CPU times: user 68 ms, sys: 2.61 ms, total: 70.6 ms\n",
      "Wall time: 69 ms\n"
     ]
    }
   ],
   "source": [
    "%%time\n",
    "scores=[]\n",
    "for letter in lowercase:\n",
    "    polymer_temp=polymers\n",
    "    i=0\n",
    "    polymer_temp=polymer_temp.translate(str.maketrans('', '', letter+letter.upper()))\n",
    "    while i!=len(polymer_temp)-1:\n",
    "        if(abs(ord(polymer_temp[i])-ord(polymer_temp[i+1]))==32):\n",
    "            polymer_temp=polymer_temp[0:i]+polymer_temp[i+2:]\n",
    "            i=max(0,i-1)\n",
    "        else:\n",
    "            i+=1\n",
    "    scores.append(len(polymer_temp))\n",
    "print_result(min(scores))"
   ]
  },
  {
   "cell_type": "code",
   "execution_count": null,
   "metadata": {},
   "outputs": [],
   "source": []
  }
 ],
 "metadata": {
  "kernelspec": {
   "display_name": "Python 3",
   "language": "python",
   "name": "python3"
  },
  "language_info": {
   "codemirror_mode": {
    "name": "ipython",
    "version": 3
   },
   "file_extension": ".py",
   "mimetype": "text/x-python",
   "name": "python",
   "nbconvert_exporter": "python",
   "pygments_lexer": "ipython3",
   "version": "3.7.4"
  }
 },
 "nbformat": 4,
 "nbformat_minor": 2
}

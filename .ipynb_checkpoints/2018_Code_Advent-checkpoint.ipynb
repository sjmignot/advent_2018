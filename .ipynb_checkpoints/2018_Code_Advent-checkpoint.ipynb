{
 "cells": [
  {
   "cell_type": "markdown",
   "metadata": {},
   "source": [
    "# SETUP"
   ]
  },
  {
   "cell_type": "markdown",
   "metadata": {},
   "source": [
    "## imports"
   ]
  },
  {
   "cell_type": "code",
   "execution_count": 1,
   "metadata": {},
   "outputs": [],
   "source": [
    "import string\n",
    "import numpy as np\n",
    "from itertools import cycle\n",
    "import requests\n",
    "import collections\n",
    "from pprint import pprint\n",
    "import operator\n",
    "import networkx as nx\n",
    "import concurrent\n",
    "from time import sleep\n"
   ]
  },
  {
   "cell_type": "markdown",
   "metadata": {},
   "source": [
    "## constants"
   ]
  },
  {
   "cell_type": "code",
   "execution_count": 2,
   "metadata": {},
   "outputs": [],
   "source": [
    "lowercase = string.ascii_lowercase\n",
    "uppercase = string.ascii_uppercase"
   ]
  },
  {
   "cell_type": "markdown",
   "metadata": {},
   "source": [
    "## helpers"
   ]
  },
  {
   "cell_type": "code",
   "execution_count": 3,
   "metadata": {
    "scrolled": true
   },
   "outputs": [],
   "source": [
    "def get_level_input(lvl_num):\n",
    "    with open('advent_inputs/%d.txt' %lvl_num) as f:\n",
    "        level_input=f.read()\n",
    "        return level_input[:-1]\n",
    "    \n",
    "def print_result(answer):\n",
    "    pprint(\"RESULT: \"+str(answer))\n",
    "    print()\n",
    "    pprint(\"TIME\"+\".\"*60)\n",
    "    \n",
    "class StopExecution(Exception):\n",
    "    def _render_traceback_(self):\n",
    "        pass"
   ]
  },
  {
   "cell_type": "markdown",
   "metadata": {},
   "source": [
    "# LEVEL 1"
   ]
  },
  {
   "cell_type": "markdown",
   "metadata": {},
   "source": [
    "## setup"
   ]
  },
  {
   "cell_type": "code",
   "execution_count": 6,
   "metadata": {},
   "outputs": [],
   "source": [
    "frequencies=get_level_input(1)\n",
    "frequencies=frequencies.splitlines()\n",
    "frequencies=[int(x[1:]) if x[0]=='+' else int(x) for x in frequencies]"
   ]
  },
  {
   "cell_type": "markdown",
   "metadata": {},
   "source": [
    "## part one"
   ]
  },
  {
   "cell_type": "code",
   "execution_count": 7,
   "metadata": {},
   "outputs": [
    {
     "name": "stdout",
     "output_type": "stream",
     "text": [
      "'RESULT: 500'\n",
      "\n",
      "'TIME............................................................'\n",
      "CPU times: user 150 µs, sys: 88 µs, total: 238 µs\n",
      "Wall time: 180 µs\n"
     ]
    }
   ],
   "source": [
    "%%time\n",
    "print_result(sum(frequencies))"
   ]
  },
  {
   "cell_type": "markdown",
   "metadata": {},
   "source": [
    "## part two"
   ]
  },
  {
   "cell_type": "code",
   "execution_count": 8,
   "metadata": {},
   "outputs": [
    {
     "name": "stdout",
     "output_type": "stream",
     "text": [
      "'RESULT: 709'\n",
      "\n",
      "'TIME............................................................'\n",
      "CPU times: user 43.7 ms, sys: 5.18 ms, total: 48.9 ms\n",
      "Wall time: 47.3 ms\n"
     ]
    }
   ],
   "source": [
    "%%time\n",
    "y=set({})\n",
    "current_sum = 0\n",
    "for i in cycle(frequencies):\n",
    "    current_sum+=i\n",
    "    if current_sum in y:\n",
    "        print_result(current_sum)\n",
    "        break\n",
    "    else:\n",
    "        y.add(current_sum)"
   ]
  },
  {
   "cell_type": "markdown",
   "metadata": {},
   "source": [
    "# LEVEL 2"
   ]
  },
  {
   "cell_type": "markdown",
   "metadata": {},
   "source": [
    "## setup"
   ]
  },
  {
   "cell_type": "code",
   "execution_count": 9,
   "metadata": {},
   "outputs": [],
   "source": [
    "input_boxes=get_level_input(2)\n",
    "input_boxes=input_boxes.split('\\n')\n",
    "count_boxes = [collections.Counter(a) for a in input_boxes]"
   ]
  },
  {
   "cell_type": "markdown",
   "metadata": {},
   "source": [
    "## part one"
   ]
  },
  {
   "cell_type": "code",
   "execution_count": 10,
   "metadata": {},
   "outputs": [
    {
     "name": "stdout",
     "output_type": "stream",
     "text": [
      "'RESULT: 6422'\n",
      "\n",
      "'TIME............................................................'\n",
      "CPU times: user 3.28 ms, sys: 113 µs, total: 3.39 ms\n",
      "Wall time: 3.3 ms\n"
     ]
    }
   ],
   "source": [
    "%%time\n",
    "twos=0\n",
    "threes=0\n",
    "for box_id in count_boxes:\n",
    "    if 2 in box_id.values():\n",
    "        twos+=1\n",
    "    if 3 in box_id.values():\n",
    "        threes+=1\n",
    "print_result(str(twos*threes))"
   ]
  },
  {
   "cell_type": "markdown",
   "metadata": {},
   "source": [
    "## part two"
   ]
  },
  {
   "cell_type": "code",
   "execution_count": 11,
   "metadata": {},
   "outputs": [
    {
     "name": "stdout",
     "output_type": "stream",
     "text": [
      "'RESULT: qcslyvphgkrmdawljuefotxbh'\n",
      "\n",
      "'TIME............................................................'\n"
     ]
    }
   ],
   "source": [
    "%%time\n",
    "for i, box_one in enumerate(input_boxes):\n",
    "    for box_two in input_boxes[i+1:]:\n",
    "        diff=0\n",
    "        wrong_letter_index=0\n",
    "        for j in range(len(box_one)):\n",
    "            if box_one[j]==box_two[j]: continue\n",
    "            diff+=1\n",
    "            wrong_letter_index=j\n",
    "            if(diff>1): break\n",
    "        if(diff==1): \n",
    "            print_result(box_one[:wrong_letter_index]+box_one[wrong_letter_index+1:])\n",
    "            raise StopExecution     "
   ]
  },
  {
   "cell_type": "markdown",
   "metadata": {},
   "source": [
    "# LEVEL 3"
   ]
  },
  {
   "cell_type": "markdown",
   "metadata": {},
   "source": [
    "## setup"
   ]
  },
  {
   "cell_type": "code",
   "execution_count": 12,
   "metadata": {},
   "outputs": [],
   "source": [
    "fabric_list=get_level_input(3).splitlines()\n",
    "fabric_list=[x.split(\" \") for x in fabric_list]"
   ]
  },
  {
   "cell_type": "markdown",
   "metadata": {},
   "source": [
    "## part one"
   ]
  },
  {
   "cell_type": "code",
   "execution_count": 13,
   "metadata": {},
   "outputs": [
    {
     "name": "stdout",
     "output_type": "stream",
     "text": [
      "'RESULT: 101565'\n",
      "\n",
      "'TIME............................................................'\n",
      "CPU times: user 1.81 s, sys: 9.44 ms, total: 1.82 s\n",
      "Wall time: 1.82 s\n"
     ]
    }
   ],
   "source": [
    "%%time\n",
    "fabric=np.zeros((1000,1000))\n",
    "for i in fabric_list:\n",
    "    dim=tuple([int(z) for z in i[2][:-1].split(\",\")])\n",
    "    size=tuple([int(z) for z in i[3].split(\"x\")])\n",
    "    fabric[dim[0]:dim[0]+size[0],dim[1]:dim[1]+size[1]]+=1\n",
    "    NUM_SINGLE_USED=(fabric > 1).sum()\n",
    "print_result(NUM_SINGLE_USED)"
   ]
  },
  {
   "cell_type": "markdown",
   "metadata": {},
   "source": [
    "## part two"
   ]
  },
  {
   "cell_type": "code",
   "execution_count": 14,
   "metadata": {},
   "outputs": [
    {
     "name": "stdout",
     "output_type": "stream",
     "text": [
      "'RESULT: #656'\n",
      "\n",
      "'TIME............................................................'\n",
      "CPU times: user 19.6 ms, sys: 3.32 ms, total: 23 ms\n",
      "Wall time: 20.8 ms\n"
     ]
    }
   ],
   "source": [
    "%%time\n",
    "for i in fabric_list:\n",
    "    dim=tuple([int(z) for z in i[2][:-1].split(\",\")])\n",
    "    size=tuple([int(z) for z in i[3].split(\"x\")])\n",
    "    if((fabric[dim[0]:dim[0]+size[0],dim[1]:dim[1]+size[1]]==1).all()):\n",
    "        print_result(i[0])"
   ]
  },
  {
   "cell_type": "markdown",
   "metadata": {},
   "source": [
    "# LEVEL 4"
   ]
  },
  {
   "cell_type": "markdown",
   "metadata": {},
   "source": [
    "## setup"
   ]
  },
  {
   "cell_type": "code",
   "execution_count": 15,
   "metadata": {},
   "outputs": [],
   "source": [
    "guards = get_level_input(4)\n",
    "guards = guards.splitlines()\n",
    "guards.sort()\n",
    "guards = [[x[0][-2:], x[1][1:]] for x in [j.split(']') for j in guards]]"
   ]
  },
  {
   "cell_type": "markdown",
   "metadata": {},
   "source": [
    "## part one"
   ]
  },
  {
   "cell_type": "code",
   "execution_count": 16,
   "metadata": {
    "scrolled": true
   },
   "outputs": [
    {
     "name": "stdout",
     "output_type": "stream",
     "text": [
      "'RESULT: 102688'\n",
      "\n",
      "'TIME............................................................'\n",
      "CPU times: user 3.51 ms, sys: 342 µs, total: 3.85 ms\n",
      "Wall time: 3.56 ms\n"
     ]
    }
   ],
   "source": [
    "%%time\n",
    "\n",
    "cur_guard=0\n",
    "guard_to_min={}\n",
    "for i, log in enumerate(guards):\n",
    "    if(log[1][0]=='G'):\n",
    "        cur_guard=int(log[1].split(\" \")[1][1:])\n",
    "        if cur_guard not in guard_to_min.keys():\n",
    "            guard_to_min[cur_guard]=np.zeros(60)\n",
    "    elif(log[1][0]=='f'):\n",
    "        if(int(log[0])<int(guards[i+1][0])):\n",
    "            guard_to_min[cur_guard][int(log[0]):int(guards[i+1][0])]+=1\n",
    "        else:\n",
    "            guard_to_min[cur_guard][int(log[0]):]+=1\n",
    "            guard_to_min[cur_guard][:int(guards[i+1][0])]+=1\n",
    "m = max([sum(v) for v in guard_to_min.values()])\n",
    "\n",
    "for key,value in guard_to_min.items():\n",
    "    if( m==sum(value)):\n",
    "        print_result(list(value).index(max(value))*key)"
   ]
  },
  {
   "cell_type": "markdown",
   "metadata": {},
   "source": [
    "## part two"
   ]
  },
  {
   "cell_type": "code",
   "execution_count": 17,
   "metadata": {},
   "outputs": [
    {
     "name": "stdout",
     "output_type": "stream",
     "text": [
      "'RESULT: 56901'\n",
      "\n",
      "'TIME............................................................'\n",
      "CPU times: user 3.46 ms, sys: 190 µs, total: 3.65 ms\n",
      "Wall time: 3.6 ms\n"
     ]
    }
   ],
   "source": [
    "%%time\n",
    "\n",
    "cur_guard=0\n",
    "guard_to_min={}\n",
    "for i, log in enumerate(guards):\n",
    "    if(log[1][0]=='G'):\n",
    "        cur_guard=int(log[1].split(\" \")[1][1:])\n",
    "        if cur_guard not in guard_to_min.keys():\n",
    "            guard_to_min[cur_guard]=np.zeros(60)\n",
    "    elif(log[1][0]=='f'):\n",
    "        if(int(log[0])<int(guards[i+1][0])):\n",
    "            guard_to_min[cur_guard][int(log[0]):int(guards[i+1][0])]+=1\n",
    "        else:\n",
    "            guard_to_min[cur_guard][int(log[0]):]+=1\n",
    "            guard_to_min[cur_guard][:int(guards[i+1][0])]+=1\n",
    "m = max(i for v in guard_to_min.values() for i in v)\n",
    "\n",
    "for key,value in guard_to_min.items():\n",
    "    if( m in value ):\n",
    "        print_result(list(value).index(m)*key)"
   ]
  },
  {
   "cell_type": "markdown",
   "metadata": {},
   "source": [
    "# LEVEL 5"
   ]
  },
  {
   "cell_type": "markdown",
   "metadata": {},
   "source": [
    "## setup"
   ]
  },
  {
   "cell_type": "code",
   "execution_count": 18,
   "metadata": {},
   "outputs": [],
   "source": [
    "polymers=get_level_input(5)"
   ]
  },
  {
   "cell_type": "markdown",
   "metadata": {},
   "source": [
    "## part one"
   ]
  },
  {
   "cell_type": "code",
   "execution_count": 19,
   "metadata": {},
   "outputs": [
    {
     "name": "stdout",
     "output_type": "stream",
     "text": [
      "9202\n",
      "CPU times: user 95.2 ms, sys: 5.14 ms, total: 100 ms\n",
      "Wall time: 99 ms\n"
     ]
    }
   ],
   "source": [
    "%%time\n",
    "polymer_temp=polymers\n",
    "i=0\n",
    "while i!=len(polymer_temp)-1:\n",
    "    if(abs(ord(polymer_temp[i])-ord(polymer_temp[i+1]))==32):\n",
    "        polymer_temp=polymer_temp[0:i]+polymer_temp[i+2:]\n",
    "        i=max(0,i-1)\n",
    "    else:\n",
    "        i+=1\n",
    "print(len(polymer_temp))"
   ]
  },
  {
   "cell_type": "markdown",
   "metadata": {},
   "source": [
    "## part two"
   ]
  },
  {
   "cell_type": "code",
   "execution_count": 20,
   "metadata": {},
   "outputs": [
    {
     "name": "stdout",
     "output_type": "stream",
     "text": [
      "'RESULT: 6394'\n",
      "\n",
      "'TIME............................................................'\n",
      "CPU times: user 2.21 s, sys: 70.5 ms, total: 2.28 s\n",
      "Wall time: 2.28 s\n"
     ]
    }
   ],
   "source": [
    "%%time\n",
    "scores=[]\n",
    "for letter in lowercase:\n",
    "    polymer_temp=polymers\n",
    "    i=0\n",
    "    polymer_temp=polymer_temp.translate(str.maketrans('', '', letter+letter.upper()))\n",
    "    while i!=len(polymer_temp)-1:\n",
    "        if(abs(ord(polymer_temp[i])-ord(polymer_temp[i+1]))==32):\n",
    "            polymer_temp=polymer_temp[0:i]+polymer_temp[i+2:]\n",
    "            i=max(0,i-1)\n",
    "        else:\n",
    "            i+=1\n",
    "    scores.append(len(polymer_temp))\n",
    "print_result(min(scores))"
   ]
  },
  {
   "cell_type": "markdown",
   "metadata": {},
   "source": [
    "# LEVEL 6"
   ]
  },
  {
   "cell_type": "markdown",
   "metadata": {},
   "source": [
    "## setup"
   ]
  },
  {
   "cell_type": "code",
   "execution_count": 6,
   "metadata": {},
   "outputs": [],
   "source": [
    "GRID_SIZE=1000\n",
    "SHIFT_SIZE=50\n",
    "\n",
    "coords=get_level_input(6)\n",
    "coords_list=[tuple([int(coord.split(\", \")[0]), int(coord.split(\", \")[1])]) for coord in coords.splitlines()]\n",
    "shift_coords_list = [(x[0]+SHIFT_SIZE, x[1]+SHIFT_SIZE) for x in coords_list]\n",
    "\n",
    "def l1(c1, c2):\n",
    "    return abs(c1[0]-c2[0])+abs(c1[1]-c2[1])\n",
    "\n",
    "def get_index_min_l1(pos):\n",
    "    coord_min=[]\n",
    "    for coord in shift_coords_list:\n",
    "        coord_min.append(l1(coord, pos))\n",
    "    x=np.where(np.array(coord_min) == np.array(coord_min).min())\n",
    "    if(len(x[0])>1): return 0\n",
    "    return x[0][0]\n",
    "\n",
    "def determine_inf_values():\n",
    "    inf_set=set({})\n",
    "    for i in range(GRID_SIZE):\n",
    "        for j in range(GRID_SIZE):\n",
    "            if 0 in {i, j} or GRID_SIZE-1 in {i,j}:\n",
    "                inf_set.add(get_index_min_l1((i,j))+1)\n",
    "    return inf_set\n",
    "\n",
    "inf_set=determine_inf_values()"
   ]
  },
  {
   "cell_type": "code",
   "execution_count": 129,
   "metadata": {},
   "outputs": [],
   "source": [
    "# TEST_COORDS\n",
    "# GRID_SIZE=20\n",
    "# SHIFT_SIZE=5\n",
    "# coords_list=[(1, 1),(1, 6),(8, 3),(3, 4),(5, 5),(8, 9)]\n",
    "# shift_coords_list = [(x[0]+SHIFT_SIZE, x[1]+SHIFT_SIZE) for x in shift_coords_list]\n",
    "# coords= set(coord_list)\n",
    "\n",
    "# print(coords_list)"
   ]
  },
  {
   "cell_type": "markdown",
   "metadata": {},
   "source": [
    "## part one"
   ]
  },
  {
   "cell_type": "markdown",
   "metadata": {},
   "source": [
    "### thoughts\n",
    "\n",
    "- Need to determine which areas are infinite\n",
    "    - are these automatically the points that have the lowest or highest x or y coordinate?\n",
    "- Need to limit scope and calculate each grdp points relation to our coordinates\n",
    "- Assign the minimum distance to a points area score\n",
    "- Pick the point that has the minimum area score that is not infiinite\n",
    "\n",
    "### EPIPHANY\n",
    "CHANGING THE SIZE OF THE GRID WILL NOT CHANGE THE NUMBER OF RESULTS FOR NON-INFINITE OPTIONS. THIS CAN ONLY BE THE CASE FOR NON INF OPTIONS SO TRY TWO GRIDS ONE OF SMALL SIZE, ONF OF LARGER SIZE AND CHOOSE MAX VALUE THAT DOESN\"T CHANGE.\n",
    "\n",
    "**NOTE**: the grid size must expand in all directions for this method to work. This means points need to be recentered\n",
    "\n",
    "**NOTTE**: easier solutiton, any point that owns one of thte outer rings will be infinite(given a significant enough buffer around all points\n"
   ]
  },
  {
   "cell_type": "code",
   "execution_count": 25,
   "metadata": {},
   "outputs": [
    {
     "name": "stdout",
     "output_type": "stream",
     "text": [
      "'RESULT: 3223'\n",
      "\n",
      "'TIME............................................................'\n",
      "CPU times: user 37.9 s, sys: 1.02 s, total: 38.9 s\n",
      "Wall time: 38.3 s\n"
     ]
    }
   ],
   "source": [
    "%%time\n",
    "\n",
    "test_grid = np.zeros((GRID_SIZE,GRID_SIZE))\n",
    "for i, coord in enumerate(shift_coords_list):\n",
    "    test_grid[coord[0], coord[1]]=i+1\n",
    "for i in range(GRID_SIZE):\n",
    "    for j in range(GRID_SIZE):\n",
    "        if 0 not in {i, j} or GRID_SIZE-1 not in {i,j}:\n",
    "            min_value=get_index_min_l1((i,j))+1\n",
    "            if(min_value not in inf_set):\n",
    "                test_grid[i][j]=min_value\n",
    "largest_non_inf_area = int(collections.Counter(list(test_grid.flatten())).most_common(2)[1][1])\n",
    "print_result(largest_non_inf_area)\n"
   ]
  },
  {
   "cell_type": "markdown",
   "metadata": {},
   "source": [
    "## part two"
   ]
  },
  {
   "cell_type": "code",
   "execution_count": 30,
   "metadata": {},
   "outputs": [
    {
     "name": "stdout",
     "output_type": "stream",
     "text": [
      "'RESULT: 40495'\n",
      "\n",
      "'TIME............................................................'\n",
      "CPU times: user 21.7 s, sys: 47.5 ms, total: 21.8 s\n",
      "Wall time: 21.9 s\n"
     ]
    }
   ],
   "source": [
    "%%time\n",
    "\n",
    "THRESHOLD_DISTANCE=10000\n",
    "SAFE_POINTS=[]\n",
    "for i in range(GRID_SIZE):\n",
    "    for j in range(GRID_SIZE):\n",
    "        if(sum([l1((i,j),x) for x in shift_coords_list])<THRESHOLD_DISTANCE):\n",
    "            SAFE_POINTS.append((i,j))\n",
    "print_result(len(SAFE_POINTS))\n"
   ]
  },
  {
   "cell_type": "markdown",
   "metadata": {},
   "source": [
    "# LEVEL 7"
   ]
  },
  {
   "cell_type": "markdown",
   "metadata": {},
   "source": [
    "## setup"
   ]
  },
  {
   "cell_type": "code",
   "execution_count": 60,
   "metadata": {},
   "outputs": [
    {
     "name": "stdout",
     "output_type": "stream",
     "text": [
      "101\n"
     ]
    }
   ],
   "source": [
    "steps = get_level_input(7).splitlines()\n",
    "print(len(steps))\n",
    "num_steps=26\n",
    "uppercase = string.ascii_uppercase\n",
    "locks={}\n",
    "being_worked_on=set()\n",
    "_steps=map(to_node, steps)\n",
    "solution=[]\n",
    "step_time={key: value for (key, value) in [(ch,(ord(ch)-4)) for ch in uppercase]}\n",
    "NUM_WORKERS=5\n",
    "WORK_TIME=[0]*NUM_WORKERS\n",
    "WORKING_ON=['-']*NUM_WORKERS\n",
    "seconds_worked=0\n",
    "\n",
    "for step in _steps:\n",
    "    locks.setdefault(step[1],[]).append(step[0])\n",
    "\n",
    "start_nodes = sorted(list(set(list(uppercase))-set(locks.keys())))\n",
    "next_step = start_nodes\n",
    "# print(locks)\n",
    "\n",
    "def to_node(step):\n",
    "    return(step[1:-1].translate(str.maketrans('','',lowercase)).split())"
   ]
  },
  {
   "cell_type": "code",
   "execution_count": 13,
   "metadata": {},
   "outputs": [],
   "source": [
    "# # temp_test\n",
    "# steps=[\n",
    "# \"Step C must be finished before step A can begin.\",\n",
    "# \"Step C must be finished before step F can begin.\",\n",
    "# \"Step A must be finished before step B can begin.\",\n",
    "# \"Step A must be finished before step D can begin.\",\n",
    "# \"Step B must be finished before step E can begin.\",\n",
    "# \"Step D must be finished before step E can begin.\",\n",
    "# \"Step F must be finished before step E can begin.\"\n",
    "# ]\n",
    "\n",
    "# num_steps=6\n",
    "\n",
    "# uppercase=\"ABCDEF\"\n",
    "\n",
    "# def to_node(step):\n",
    "#     return(step[1:-1].translate(str.maketrans('','',lowercase)).split())"
   ]
  },
  {
   "cell_type": "markdown",
   "metadata": {},
   "source": [
    "##  part one"
   ]
  },
  {
   "cell_type": "code",
   "execution_count": 62,
   "metadata": {},
   "outputs": [
    {
     "name": "stdout",
     "output_type": "stream",
     "text": [
      "'RESULT: CFGMHNPVAEBWRQDIUSZJYTKLOX'\n",
      "\n",
      "'TIME............................................................'\n",
      "CPU times: user 126 µs, sys: 50 µs, total: 176 µs\n",
      "Wall time: 150 µs\n"
     ]
    }
   ],
   "source": [
    "%%time\n",
    "\n",
    "while(len(solution)<num_steps):\n",
    "    next_step=list(set(start_nodes)-set(solution))\n",
    "    for key, dependencies in locks.items():\n",
    "        if (set(dependencies) <= set(solution)) and key not in solution:\n",
    "            next_step.append(key)\n",
    "    solution+=(sorted(next_step)[0])\n",
    "print_result(\"\".join(solution))"
   ]
  },
  {
   "cell_type": "code",
   "execution_count": 61,
   "metadata": {},
   "outputs": [
    {
     "name": "stdout",
     "output_type": "stream",
     "text": [
      "['C', 'F', 'G', 'M', 'H', 'N', 'P', 'V', 'A', 'E', 'B', 'W', 'R', 'Q', 'D', 'I', 'U', 'S', 'Z', 'J', 'Y', 'T', 'K', 'L', 'O', 'X']\n",
      "'RESULT: 828'\n",
      "\n",
      "'TIME............................................................'\n",
      "CPU times: user 24.2 ms, sys: 988 µs, total: 25.1 ms\n",
      "Wall time: 24.6 ms\n"
     ]
    }
   ],
   "source": [
    "%%time\n",
    "\n",
    "while(len(solution)<num_steps):\n",
    "#     print(seconds_worked)\n",
    "#     print(f\"solution => {solution}\")\n",
    "    for key, dependencies in locks.items():\n",
    "#         print(f\"dependency test => {dependencies}:{solution}\")\n",
    "        if (set(dependencies) <= set(solution)) and key not in being_worked_on and key not in next_step:\n",
    "            next_step.append(key)\n",
    "    next_step=sorted(next_step)\n",
    "#     print(f\"next step => {next_step}\")\n",
    "    for i, val in enumerate(WORK_TIME):\n",
    "#         print(f\"worker ${i} has {val} time left\")\n",
    "        if WORKING_ON[i]=='-' and next_step:\n",
    "            letter = next_step[0]\n",
    "            WORK_TIME[i]+=step_time[letter]\n",
    "            WORKING_ON[i]=letter\n",
    "            being_worked_on.add(letter)\n",
    "            next_step=next_step[1:] \n",
    "#         print(WORKING_ON)\n",
    "        if(WORK_TIME[i]-1==0):\n",
    "            solution.append(WORKING_ON[i])\n",
    "            WORKING_ON[i]='-'\n",
    "    WORK_TIME=[max(0,x-1) for x in WORK_TIME]\n",
    "    seconds_worked+=1\n",
    "print(solution)\n",
    "print_result(seconds_worked)"
   ]
  },
  {
   "cell_type": "code",
   "execution_count": 35,
   "metadata": {},
   "outputs": [],
   "source": [
    "# Ponderings on a threaded solution!\n",
    "\n",
    "# THREADED SOLUTION\n",
    "\n",
    "# def work_on_letter(worker, letter):\n",
    "#     being_worked_on.add(letter)\n",
    "#     CURRENTLY_FREE[worker]=0\n",
    "#     print(f\"worker {worker} is working on letter {letter}\")\n",
    "#     sleep(step_time[letter])\n",
    "#     print(f\"worker {worker} is done working on letter {letter}\")\n",
    "#     solution.append(letter)\n",
    "#     CURRENTLY_FREE[worker]=1\n",
    "\n",
    "\n",
    "# with concurrent.futures.ThreadPoolExecutor(max_workers=5) as executor:\n",
    "#     while(len(solution)<num_steps):\n",
    "#         next_step=list(set(next_step)-set(solution))\n",
    "#         for key, dependencies in locks.items():\n",
    "#             if (set(dependencies) <= set(solution)) and key not in solution and key not in being_worked_on:\n",
    "#                 next_step.append(key)\n",
    "#         next_step=sorted(next_step)\n",
    "#         for i, val in enumerate(CURRENTLY_FREE):\n",
    "#             if val==1 and next_step:\n",
    "#                 executor.submit(work_on_letter, i, next_step[0])\n",
    "#                 next_step=next_step[1:] \n",
    "# print_result(\"\".join(solution))"
   ]
  },
  {
   "cell_type": "markdown",
   "metadata": {},
   "source": [
    "# LEVEL 8"
   ]
  },
  {
   "cell_type": "markdown",
   "metadata": {},
   "source": [
    "## setup"
   ]
  },
  {
   "cell_type": "code",
   "execution_count": 156,
   "metadata": {},
   "outputs": [
    {
     "name": "stdout",
     "output_type": "stream",
     "text": [
      "9\n"
     ]
    }
   ],
   "source": [
    "tree_test = get_level_input(8).split(\" \")\n",
    "_tree_test = [int(x) for x in tree_test]\n",
    "print(tree_test[0])\n",
    "class Node:\n",
    "    \"\"\"\n",
    "    Class Node\n",
    "    \"\"\"\n",
    "    def __init__(self, num_children, num_data):\n",
    "        self.num_data = num_data\n",
    "        self.num_children = num_children\n",
    "        self.meta_data = []\n",
    "        self.children = []\n",
    "        \n",
    "    def __str__(self):\n",
    "        return f\"NUM_CHILDREN: {self.num_children} && NUM_DATA: {self.num_data}\"\n",
    "ROOT = Node(_tree_test[0], _tree_test[1])"
   ]
  },
  {
   "cell_type": "code",
   "execution_count": 147,
   "metadata": {},
   "outputs": [
    {
     "name": "stdout",
     "output_type": "stream",
     "text": [
      "2\n"
     ]
    }
   ],
   "source": [
    "tree_test =\"2 3 0 3 10 11 12 1 1 0 1 99 2 1 1 2\".split(\" \")\n",
    "_tree_test = [int(x) for x in tree_test]\n",
    "\n",
    "\n",
    "print(tree_test[0])\n",
    "class Node:\n",
    "    \"\"\"\n",
    "    Class Node\n",
    "    \"\"\"\n",
    "    def __init__(self, num_children, num_data):\n",
    "        self.num_data = num_data\n",
    "        self.num_children = num_children\n",
    "        self.meta_data = []\n",
    "        self.children = []\n",
    "        \n",
    "    def __str__(self):\n",
    "        return f\"NUM_CHILDREN: {self.num_children} && NUM_DATA: {self.num_data} && MEDATADATA: {self.meta_data}\"\n",
    "ROOT = Node(_tree_test[0], _tree_test[1])"
   ]
  },
  {
   "cell_type": "markdown",
   "metadata": {},
   "source": [
    "## part one"
   ]
  },
  {
   "cell_type": "code",
   "execution_count": 158,
   "metadata": {},
   "outputs": [
    {
     "name": "stdout",
     "output_type": "stream",
     "text": [
      "NUM_CHILDREN: 7 && NUM_DATA: 2\n",
      "49180\n",
      "CPU times: user 97.7 ms, sys: 3.58 ms, total: 101 ms\n",
      "Wall time: 100 ms\n"
     ]
    }
   ],
   "source": [
    "%%time\n",
    "TOTAL_META =0\n",
    "\n",
    "def create_tree(node):\n",
    "    global tree_f\n",
    "    global TOTAL_META\n",
    "#     print(tree_f)\n",
    "#     print(node)\n",
    "    for i in range(node.num_children):\n",
    "        num_c=tree_f[0]\n",
    "        num_m=tree_f[1]\n",
    "        tree_f=tree_f[2:]\n",
    "        node.children.append(create_tree(Node(num_c, num_m)))\n",
    "    node.meta_data, tree_f = tree_f[:node.num_data], tree_f[node.num_data:]\n",
    "    TOTAL_META+=sum(node.meta_data)\n",
    "#     print(f\"META: {node.meta_data}\")\n",
    "    return node\n",
    "\n",
    "tree_f = _tree_test[2:]\n",
    "tree = create_tree(ROOT)\n",
    "print(tree.children[1])\n",
    "print(TOTAL_META)"
   ]
  },
  {
   "cell_type": "markdown",
   "metadata": {},
   "source": [
    "## part two"
   ]
  },
  {
   "cell_type": "code",
   "execution_count": 63,
   "metadata": {},
   "outputs": [
    {
     "name": "stderr",
     "output_type": "stream",
     "text": [
      "UsageError: %%time is a cell magic, but the cell body is empty. Did you mean the line magic %time (single %)?\n"
     ]
    }
   ],
   "source": [
    "%%time\n"
   ]
  },
  {
   "cell_type": "code",
   "execution_count": null,
   "metadata": {},
   "outputs": [],
   "source": []
  }
 ],
 "metadata": {
  "kernelspec": {
   "display_name": "Python 3",
   "language": "python",
   "name": "python3"
  },
  "language_info": {
   "codemirror_mode": {
    "name": "ipython",
    "version": 3
   },
   "file_extension": ".py",
   "mimetype": "text/x-python",
   "name": "python",
   "nbconvert_exporter": "python",
   "pygments_lexer": "ipython3",
   "version": "3.7.4"
  }
 },
 "nbformat": 4,
 "nbformat_minor": 2
}

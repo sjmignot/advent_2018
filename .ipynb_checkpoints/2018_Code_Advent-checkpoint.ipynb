{
 "cells": [
  {
   "cell_type": "markdown",
   "metadata": {},
   "source": [
    "# SETUP"
   ]
  },
  {
   "cell_type": "markdown",
   "metadata": {},
   "source": [
    "## imports"
   ]
  },
  {
   "cell_type": "code",
   "execution_count": 20,
   "metadata": {},
   "outputs": [],
   "source": [
    "import string\n",
    "import numpy as np\n",
    "from itertools import cycle\n",
    "import requests\n",
    "import collections\n",
    "from collections import deque\n",
    "from pprint import pprint\n",
    "import operator\n",
    "import concurrent\n",
    "from time import sleep\n",
    "from MarbleGameList import MarbleGameLinkedList\n",
    "import re\n",
    "from functools import reduce\n",
    "from dataclasses import dataclass\n",
    "from copy import deepcopy"
   ]
  },
  {
   "cell_type": "markdown",
   "metadata": {},
   "source": [
    "## constants"
   ]
  },
  {
   "cell_type": "code",
   "execution_count": 21,
   "metadata": {},
   "outputs": [],
   "source": [
    "lowercase = string.ascii_lowercase\n",
    "uppercase = string.ascii_uppercase"
   ]
  },
  {
   "cell_type": "markdown",
   "metadata": {},
   "source": [
    "## helpers"
   ]
  },
  {
   "cell_type": "code",
   "execution_count": 22,
   "metadata": {},
   "outputs": [],
   "source": [
    "def get_level_input(lvl_num):\n",
    "    with open(f\"advent_inputs/{lvl_num}.txt\") as f:\n",
    "        level_input=f.read()\n",
    "        return level_input[:-1]\n",
    "    \n",
    "def print_result(answer):\n",
    "    pprint(\"RESULT: \"+str(answer))\n",
    "    print()\n",
    "    pprint(\"TIME\"+\".\"*60)\n",
    "    \n",
    "class StopExecution(Exception):\n",
    "    def _render_traceback_(self):\n",
    "        pass"
   ]
  },
  {
   "cell_type": "markdown",
   "metadata": {},
   "source": [
    "# LEVEL 1"
   ]
  },
  {
   "cell_type": "markdown",
   "metadata": {},
   "source": [
    "## setup"
   ]
  },
  {
   "cell_type": "code",
   "execution_count": 4,
   "metadata": {},
   "outputs": [],
   "source": [
    "frequencies=get_level_input(\"01\")\n",
    "frequencies=frequencies.splitlines()\n",
    "frequencies=[int(x[1:]) if x[0]=='+' else int(x) for x in frequencies]"
   ]
  },
  {
   "cell_type": "markdown",
   "metadata": {},
   "source": [
    "## part one"
   ]
  },
  {
   "cell_type": "code",
   "execution_count": 5,
   "metadata": {},
   "outputs": [
    {
     "name": "stdout",
     "output_type": "stream",
     "text": [
      "'RESULT: 500'\n",
      "\n",
      "'TIME............................................................'\n",
      "CPU times: user 542 µs, sys: 367 µs, total: 909 µs\n",
      "Wall time: 600 µs\n"
     ]
    }
   ],
   "source": [
    "%%time\n",
    "print_result(sum(frequencies))"
   ]
  },
  {
   "cell_type": "markdown",
   "metadata": {},
   "source": [
    "## part two"
   ]
  },
  {
   "cell_type": "code",
   "execution_count": 6,
   "metadata": {},
   "outputs": [
    {
     "name": "stdout",
     "output_type": "stream",
     "text": [
      "'RESULT: 709'\n",
      "\n",
      "'TIME............................................................'\n",
      "CPU times: user 46.5 ms, sys: 5.28 ms, total: 51.8 ms\n",
      "Wall time: 51.4 ms\n"
     ]
    }
   ],
   "source": [
    "%%time\n",
    "y=set({})\n",
    "current_sum = 0\n",
    "for i in cycle(frequencies):\n",
    "    current_sum+=i\n",
    "    if current_sum in y:\n",
    "        print_result(current_sum)\n",
    "        break\n",
    "    else:\n",
    "        y.add(current_sum)"
   ]
  },
  {
   "cell_type": "markdown",
   "metadata": {},
   "source": [
    "# LEVEL 2"
   ]
  },
  {
   "cell_type": "markdown",
   "metadata": {},
   "source": [
    "## setup"
   ]
  },
  {
   "cell_type": "code",
   "execution_count": 7,
   "metadata": {},
   "outputs": [],
   "source": [
    "input_boxes=get_level_input(\"02\")\n",
    "input_boxes=input_boxes.split('\\n')\n",
    "count_boxes = [collections.Counter(a) for a in input_boxes]"
   ]
  },
  {
   "cell_type": "markdown",
   "metadata": {},
   "source": [
    "## part one"
   ]
  },
  {
   "cell_type": "code",
   "execution_count": 8,
   "metadata": {},
   "outputs": [
    {
     "name": "stdout",
     "output_type": "stream",
     "text": [
      "'RESULT: 6422'\n",
      "\n",
      "'TIME............................................................'\n",
      "CPU times: user 623 µs, sys: 268 µs, total: 891 µs\n",
      "Wall time: 652 µs\n"
     ]
    }
   ],
   "source": [
    "%%time\n",
    "twos=0\n",
    "threes=0\n",
    "for box_id in count_boxes:\n",
    "    if 2 in box_id.values():\n",
    "        twos+=1\n",
    "    if 3 in box_id.values():\n",
    "        threes+=1\n",
    "print_result(str(twos*threes))"
   ]
  },
  {
   "cell_type": "markdown",
   "metadata": {},
   "source": [
    "## part two"
   ]
  },
  {
   "cell_type": "code",
   "execution_count": 9,
   "metadata": {},
   "outputs": [
    {
     "name": "stdout",
     "output_type": "stream",
     "text": [
      "'RESULT: qcslyvphgkrmdawljuefotxbh'\n",
      "\n",
      "'TIME............................................................'\n"
     ]
    }
   ],
   "source": [
    "%%time\n",
    "for i, box_one in enumerate(input_boxes):\n",
    "    for box_two in input_boxes[i+1:]:\n",
    "        diff=0\n",
    "        wrong_letter_index=0\n",
    "        for j in range(len(box_one)):\n",
    "            if box_one[j]==box_two[j]: continue\n",
    "            diff+=1\n",
    "            wrong_letter_index=j\n",
    "            if(diff>1): break\n",
    "        if(diff==1): \n",
    "            print_result(box_one[:wrong_letter_index]+box_one[wrong_letter_index+1:])\n",
    "            raise StopExecution     "
   ]
  },
  {
   "cell_type": "markdown",
   "metadata": {},
   "source": [
    "# LEVEL 3"
   ]
  },
  {
   "cell_type": "markdown",
   "metadata": {},
   "source": [
    "## setup"
   ]
  },
  {
   "cell_type": "code",
   "execution_count": 10,
   "metadata": {},
   "outputs": [],
   "source": [
    "fabric_list=get_level_input(\"03\").splitlines()\n",
    "fabric_list=[x.split(\" \") for x in fabric_list]"
   ]
  },
  {
   "cell_type": "markdown",
   "metadata": {},
   "source": [
    "## part one"
   ]
  },
  {
   "cell_type": "code",
   "execution_count": 11,
   "metadata": {},
   "outputs": [
    {
     "name": "stdout",
     "output_type": "stream",
     "text": [
      "'RESULT: 101565'\n",
      "\n",
      "'TIME............................................................'\n",
      "CPU times: user 1.9 s, sys: 19.9 ms, total: 1.92 s\n",
      "Wall time: 2.02 s\n"
     ]
    }
   ],
   "source": [
    "%%time\n",
    "fabric=np.zeros((1000,1000))\n",
    "for i in fabric_list:\n",
    "    dim=tuple([int(z) for z in i[2][:-1].split(\",\")])\n",
    "    size=tuple([int(z) for z in i[3].split(\"x\")])\n",
    "    fabric[dim[0]:dim[0]+size[0],dim[1]:dim[1]+size[1]]+=1\n",
    "    NUM_SINGLE_USED=(fabric > 1).sum()\n",
    "print_result(NUM_SINGLE_USED)"
   ]
  },
  {
   "cell_type": "markdown",
   "metadata": {},
   "source": [
    "## part two"
   ]
  },
  {
   "cell_type": "code",
   "execution_count": 12,
   "metadata": {},
   "outputs": [
    {
     "name": "stdout",
     "output_type": "stream",
     "text": [
      "'RESULT: #656'\n",
      "\n",
      "'TIME............................................................'\n",
      "CPU times: user 15 ms, sys: 2.99 ms, total: 17.9 ms\n",
      "Wall time: 15.8 ms\n"
     ]
    }
   ],
   "source": [
    "%%time\n",
    "for i in fabric_list:\n",
    "    dim=tuple([int(z) for z in i[2][:-1].split(\",\")])\n",
    "    size=tuple([int(z) for z in i[3].split(\"x\")])\n",
    "    if((fabric[dim[0]:dim[0]+size[0],dim[1]:dim[1]+size[1]]==1).all()):\n",
    "        print_result(i[0])"
   ]
  },
  {
   "cell_type": "markdown",
   "metadata": {},
   "source": [
    "# LEVEL 4"
   ]
  },
  {
   "cell_type": "markdown",
   "metadata": {},
   "source": [
    "## setup"
   ]
  },
  {
   "cell_type": "code",
   "execution_count": 13,
   "metadata": {},
   "outputs": [],
   "source": [
    "guards = get_level_input(\"4\")\n",
    "guards = guards.splitlines()\n",
    "guards.sort()\n",
    "guards = [[x[0][-2:], x[1][1:]] for x in [j.split(']') for j in guards]]"
   ]
  },
  {
   "cell_type": "markdown",
   "metadata": {},
   "source": [
    "## part one"
   ]
  },
  {
   "cell_type": "code",
   "execution_count": 14,
   "metadata": {
    "scrolled": true
   },
   "outputs": [
    {
     "name": "stdout",
     "output_type": "stream",
     "text": [
      "'RESULT: 102688'\n",
      "\n",
      "'TIME............................................................'\n",
      "CPU times: user 3.47 ms, sys: 234 µs, total: 3.71 ms\n",
      "Wall time: 3.64 ms\n"
     ]
    }
   ],
   "source": [
    "%%time\n",
    "\n",
    "cur_guard=0\n",
    "guard_to_min={}\n",
    "for i, log in enumerate(guards):\n",
    "    if(log[1][0]=='G'):\n",
    "        cur_guard=int(log[1].split(\" \")[1][1:])\n",
    "        if cur_guard not in guard_to_min.keys():\n",
    "            guard_to_min[cur_guard]=np.zeros(60)\n",
    "    elif(log[1][0]=='f'):\n",
    "        if(int(log[0])<int(guards[i+1][0])):\n",
    "            guard_to_min[cur_guard][int(log[0]):int(guards[i+1][0])]+=1\n",
    "        else:\n",
    "            guard_to_min[cur_guard][int(log[0]):]+=1\n",
    "            guard_to_min[cur_guard][:int(guards[i+1][0])]+=1\n",
    "m = max([sum(v) for v in guard_to_min.values()])\n",
    "\n",
    "for key,value in guard_to_min.items():\n",
    "    if( m==sum(value)):\n",
    "        print_result(list(value).index(max(value))*key)"
   ]
  },
  {
   "cell_type": "markdown",
   "metadata": {},
   "source": [
    "## part two"
   ]
  },
  {
   "cell_type": "code",
   "execution_count": 15,
   "metadata": {},
   "outputs": [
    {
     "name": "stdout",
     "output_type": "stream",
     "text": [
      "'RESULT: 56901'\n",
      "\n",
      "'TIME............................................................'\n",
      "CPU times: user 3.34 ms, sys: 257 µs, total: 3.6 ms\n",
      "Wall time: 4.3 ms\n"
     ]
    }
   ],
   "source": [
    "%%time\n",
    "\n",
    "cur_guard=0\n",
    "guard_to_min={}\n",
    "for i, log in enumerate(guards):\n",
    "    if(log[1][0]=='G'):\n",
    "        cur_guard=int(log[1].split(\" \")[1][1:])\n",
    "        if cur_guard not in guard_to_min.keys():\n",
    "            guard_to_min[cur_guard]=np.zeros(60)\n",
    "    elif(log[1][0]=='f'):\n",
    "        if(int(log[0])<int(guards[i+1][0])):\n",
    "            guard_to_min[cur_guard][int(log[0]):int(guards[i+1][0])]+=1\n",
    "        else:\n",
    "            guard_to_min[cur_guard][int(log[0]):]+=1\n",
    "            guard_to_min[cur_guard][:int(guards[i+1][0])]+=1\n",
    "m = max(i for v in guard_to_min.values() for i in v)\n",
    "\n",
    "for key,value in guard_to_min.items():\n",
    "    if( m in value ):\n",
    "        print_result(list(value).index(m)*key)"
   ]
  },
  {
   "cell_type": "markdown",
   "metadata": {},
   "source": [
    "# LEVEL 5"
   ]
  },
  {
   "cell_type": "markdown",
   "metadata": {},
   "source": [
    "## setup"
   ]
  },
  {
   "cell_type": "code",
   "execution_count": 49,
   "metadata": {},
   "outputs": [],
   "source": [
    "polymers=get_level_input(\"05\")"
   ]
  },
  {
   "cell_type": "markdown",
   "metadata": {},
   "source": [
    "## part one"
   ]
  },
  {
   "cell_type": "code",
   "execution_count": 17,
   "metadata": {},
   "outputs": [
    {
     "name": "stdout",
     "output_type": "stream",
     "text": [
      "9202\n",
      "CPU times: user 109 ms, sys: 6.83 ms, total: 116 ms\n",
      "Wall time: 117 ms\n"
     ]
    }
   ],
   "source": [
    "%%time\n",
    "polymer_temp=polymers\n",
    "i=0\n",
    "while i!=len(polymer_temp)-1:\n",
    "    if(abs(ord(polymer_temp[i])-ord(polymer_temp[i+1]))==32):\n",
    "        polymer_temp=polymer_temp[0:i]+polymer_temp[i+2:]\n",
    "        i=max(0,i-1)\n",
    "    else:\n",
    "        i+=1\n",
    "print(len(polymer_temp))"
   ]
  },
  {
   "cell_type": "markdown",
   "metadata": {},
   "source": [
    "## part two"
   ]
  },
  {
   "cell_type": "code",
   "execution_count": 18,
   "metadata": {},
   "outputs": [
    {
     "name": "stdout",
     "output_type": "stream",
     "text": [
      "'RESULT: 6394'\n",
      "\n",
      "'TIME............................................................'\n",
      "CPU times: user 2.28 s, sys: 82.9 ms, total: 2.36 s\n",
      "Wall time: 2.39 s\n"
     ]
    }
   ],
   "source": [
    "%%time\n",
    "scores=[]\n",
    "for letter in lowercase:\n",
    "    polymer_temp=polymers\n",
    "    i=0\n",
    "    polymer_temp=polymer_temp.translate(str.maketrans('', '', letter+letter.upper()))\n",
    "    while i!=len(polymer_temp)-1:\n",
    "        if(abs(ord(polymer_temp[i])-ord(polymer_temp[i+1]))==32):\n",
    "            polymer_temp=polymer_temp[0:i]+polymer_temp[i+2:]\n",
    "            i=max(0,i-1)\n",
    "        else:\n",
    "            i+=1\n",
    "    scores.append(len(polymer_temp))\n",
    "print_result(min(scores))"
   ]
  },
  {
   "cell_type": "markdown",
   "metadata": {},
   "source": [
    "# LEVEL 6"
   ]
  },
  {
   "cell_type": "markdown",
   "metadata": {},
   "source": [
    "## setup"
   ]
  },
  {
   "cell_type": "code",
   "execution_count": 19,
   "metadata": {},
   "outputs": [],
   "source": [
    "GRID_SIZE=1000\n",
    "SHIFT_SIZE=50\n",
    "\n",
    "coords=get_level_input(6)\n",
    "coords_list=[tuple([int(coord.split(\", \")[0]), int(coord.split(\", \")[1])]) for coord in coords.splitlines()]\n",
    "shift_coords_list = [(x[0]+SHIFT_SIZE, x[1]+SHIFT_SIZE) for x in coords_list]\n",
    "\n",
    "def l1(c1, c2):\n",
    "    return abs(c1[0]-c2[0])+abs(c1[1]-c2[1])\n",
    "\n",
    "def get_index_min_l1(pos):\n",
    "    coord_min=[]\n",
    "    for coord in shift_coords_list:\n",
    "        coord_min.append(l1(coord, pos))\n",
    "    x=np.where(np.array(coord_min) == np.array(coord_min).min())\n",
    "    if(len(x[0])>1): return 0\n",
    "    return x[0][0]\n",
    "\n",
    "def determine_inf_values():\n",
    "    inf_set=set({})\n",
    "    for i in range(GRID_SIZE):\n",
    "        for j in range(GRID_SIZE):\n",
    "            if 0 in {i, j} or GRID_SIZE-1 in {i,j}:\n",
    "                inf_set.add(get_index_min_l1((i,j))+1)\n",
    "    return inf_set\n",
    "\n",
    "inf_set=determine_inf_values()"
   ]
  },
  {
   "cell_type": "code",
   "execution_count": 20,
   "metadata": {},
   "outputs": [],
   "source": [
    "# TEST_COORDS\n",
    "# GRID_SIZE=20\n",
    "# SHIFT_SIZE=5\n",
    "# coords_list=[(1, 1),(1, 6),(8, 3),(3, 4),(5, 5),(8, 9)]\n",
    "# shift_coords_list = [(x[0]+SHIFT_SIZE, x[1]+SHIFT_SIZE) for x in shift_coords_list]\n",
    "# coords= set(coord_list)\n",
    "\n",
    "# print(coords_list)"
   ]
  },
  {
   "cell_type": "markdown",
   "metadata": {},
   "source": [
    "## part one"
   ]
  },
  {
   "cell_type": "markdown",
   "metadata": {},
   "source": [
    "### thoughts\n",
    "\n",
    "- Need to determine which areas are infinite\n",
    "    - are these automatically the points that have the lowest or highest x or y coordinate?\n",
    "- Need to limit scope and calculate each grdp points relation to our coordinates\n",
    "- Assign the minimum distance to a points area score\n",
    "- Pick the point that has the minimum area score that is not infiinite\n",
    "\n",
    "### EPIPHANY\n",
    "CHANGING THE SIZE OF THE GRID WILL NOT CHANGE THE NUMBER OF RESULTS FOR NON-INFINITE OPTIONS. THIS CAN ONLY BE THE CASE FOR NON INF OPTIONS SO TRY TWO GRIDS ONE OF SMALL SIZE, ONF OF LARGER SIZE AND CHOOSE MAX VALUE THAT DOESN'T CHANGE.\n",
    "\n",
    "**NOTE**: the grid size must expand in all directions for this method to work. This means points need to be recentered\n",
    "\n",
    "**NOTTE**: easier solutiton, any point that owns one of thte outer rings will be infinite(given a significant enough buffer around all points\n"
   ]
  },
  {
   "cell_type": "code",
   "execution_count": 21,
   "metadata": {},
   "outputs": [
    {
     "name": "stdout",
     "output_type": "stream",
     "text": [
      "'RESULT: 3223'\n",
      "\n",
      "'TIME............................................................'\n",
      "CPU times: user 38.5 s, sys: 847 ms, total: 39.3 s\n",
      "Wall time: 39.1 s\n"
     ]
    }
   ],
   "source": [
    "%%time\n",
    "\n",
    "test_grid = np.zeros((GRID_SIZE,GRID_SIZE))\n",
    "for i, coord in enumerate(shift_coords_list):\n",
    "    test_grid[coord[0], coord[1]]=i+1\n",
    "for i in range(GRID_SIZE):\n",
    "    for j in range(GRID_SIZE):\n",
    "        if 0 not in {i, j} or GRID_SIZE-1 not in {i,j}:\n",
    "            min_value=get_index_min_l1((i,j))+1\n",
    "            if(min_value not in inf_set):\n",
    "                test_grid[i][j]=min_value\n",
    "largest_non_inf_area = int(collections.Counter(list(test_grid.flatten())).most_common(2)[1][1])\n",
    "print_result(largest_non_inf_area)\n"
   ]
  },
  {
   "cell_type": "markdown",
   "metadata": {},
   "source": [
    "## part two"
   ]
  },
  {
   "cell_type": "code",
   "execution_count": 22,
   "metadata": {},
   "outputs": [
    {
     "name": "stdout",
     "output_type": "stream",
     "text": [
      "'RESULT: 40495'\n",
      "\n",
      "'TIME............................................................'\n",
      "CPU times: user 22.4 s, sys: 74.6 ms, total: 22.5 s\n",
      "Wall time: 22.6 s\n"
     ]
    }
   ],
   "source": [
    "%%time\n",
    "\n",
    "THRESHOLD_DISTANCE=10000\n",
    "SAFE_POINTS=[]\n",
    "for i in range(GRID_SIZE):\n",
    "    for j in range(GRID_SIZE):\n",
    "        if(sum([l1((i,j),x) for x in shift_coords_list])<THRESHOLD_DISTANCE):\n",
    "            SAFE_POINTS.append((i,j))\n",
    "print_result(len(SAFE_POINTS))\n"
   ]
  },
  {
   "cell_type": "markdown",
   "metadata": {},
   "source": [
    "# LEVEL 7"
   ]
  },
  {
   "cell_type": "markdown",
   "metadata": {},
   "source": [
    "## setup"
   ]
  },
  {
   "cell_type": "code",
   "execution_count": 28,
   "metadata": {},
   "outputs": [
    {
     "name": "stdout",
     "output_type": "stream",
     "text": [
      "101\n"
     ]
    }
   ],
   "source": [
    "steps = get_level_input(7).splitlines()\n",
    "print(len(steps))\n",
    "num_steps=26\n",
    "uppercase = string.ascii_uppercase\n",
    "locks={}\n",
    "being_worked_on=set()\n",
    "\n",
    "def to_node(step):\n",
    "    return(step[1:-1].translate(str.maketrans('','',lowercase)).split())\n",
    "\n",
    "_steps=map(to_node, steps)\n",
    "solution=[]\n",
    "step_time={key: value for (key, value) in [(ch,(ord(ch)-4)) for ch in uppercase]}\n",
    "NUM_WORKERS=5\n",
    "WORK_TIME=[0]*NUM_WORKERS\n",
    "WORKING_ON=['-']*NUM_WORKERS\n",
    "seconds_worked=0\n",
    "\n",
    "for step in _steps:\n",
    "    locks.setdefault(step[1],[]).append(step[0])\n",
    "\n",
    "start_nodes = sorted(list(set(list(uppercase))-set(locks.keys())))\n",
    "next_step = start_nodes\n",
    "# print(locks)"
   ]
  },
  {
   "cell_type": "code",
   "execution_count": 25,
   "metadata": {},
   "outputs": [],
   "source": [
    "# # temp_test\n",
    "# steps=[\n",
    "# \"Step C must be finished before step A can begin.\",\n",
    "# \"Step C must be finished before step F can begin.\",\n",
    "# \"Step A must be finished before step B can begin.\",\n",
    "# \"Step A must be finished before step D can begin.\",\n",
    "# \"Step B must be finished before step E can begin.\",\n",
    "# \"Step D must be finished before step E can begin.\",\n",
    "# \"Step F must be finished before step E can begin.\"\n",
    "# ]\n",
    "\n",
    "# num_steps=6\n",
    "\n",
    "# uppercase=\"ABCDEF\"\n",
    "\n",
    "# def to_node(step):\n",
    "#     return(step[1:-1].translate(str.maketrans('','',lowercase)).split())"
   ]
  },
  {
   "cell_type": "markdown",
   "metadata": {},
   "source": [
    "##  part one"
   ]
  },
  {
   "cell_type": "code",
   "execution_count": 26,
   "metadata": {},
   "outputs": [
    {
     "name": "stdout",
     "output_type": "stream",
     "text": [
      "'RESULT: CFGHAEMNBPRDISVWQUZJYTKLOX'\n",
      "\n",
      "'TIME............................................................'\n",
      "CPU times: user 1.15 ms, sys: 58 µs, total: 1.21 ms\n",
      "Wall time: 1.18 ms\n"
     ]
    }
   ],
   "source": [
    "%%time\n",
    "\n",
    "while(len(solution)<num_steps):\n",
    "    next_step=list(set(start_nodes)-set(solution))\n",
    "    for key, dependencies in locks.items():\n",
    "        if (set(dependencies) <= set(solution)) and key not in solution:\n",
    "            next_step.append(key)\n",
    "    solution+=(sorted(next_step)[0])\n",
    "print_result(\"\".join(solution))"
   ]
  },
  {
   "cell_type": "code",
   "execution_count": 29,
   "metadata": {},
   "outputs": [
    {
     "name": "stdout",
     "output_type": "stream",
     "text": [
      "['C', 'F', 'G', 'M', 'H', 'N', 'P', 'V', 'A', 'E', 'B', 'W', 'R', 'Q', 'D', 'I', 'U', 'S', 'Z', 'J', 'Y', 'T', 'K', 'L', 'O', 'X']\n",
      "'RESULT: 828'\n",
      "\n",
      "'TIME............................................................'\n",
      "CPU times: user 29.5 ms, sys: 1.1 ms, total: 30.6 ms\n",
      "Wall time: 29.9 ms\n"
     ]
    }
   ],
   "source": [
    "%%time\n",
    "\n",
    "while(len(solution)<num_steps):\n",
    "#     print(seconds_worked)\n",
    "#     print(f\"solution => {solution}\")\n",
    "    for key, dependencies in locks.items():\n",
    "#         print(f\"dependency test => {dependencies}:{solution}\")\n",
    "        if (set(dependencies) <= set(solution)) and key not in being_worked_on and key not in next_step:\n",
    "            next_step.append(key)\n",
    "    next_step=sorted(next_step)\n",
    "#     print(f\"next step => {next_step}\")\n",
    "    for i, val in enumerate(WORK_TIME):\n",
    "#         print(f\"worker ${i} has {val} time left\")\n",
    "        if WORKING_ON[i]=='-' and next_step:\n",
    "            letter = next_step[0]\n",
    "            WORK_TIME[i]+=step_time[letter]\n",
    "            WORKING_ON[i]=letter\n",
    "            being_worked_on.add(letter)\n",
    "            next_step=next_step[1:] \n",
    "#         print(WORKING_ON)\n",
    "        if(WORK_TIME[i]-1==0):\n",
    "            solution.append(WORKING_ON[i])\n",
    "            WORKING_ON[i]='-'\n",
    "    WORK_TIME=[max(0,x-1) for x in WORK_TIME]\n",
    "    seconds_worked+=1\n",
    "print(solution)\n",
    "print_result(seconds_worked)"
   ]
  },
  {
   "cell_type": "code",
   "execution_count": 30,
   "metadata": {},
   "outputs": [],
   "source": [
    "# Ponderings on a threaded solution!\n",
    "\n",
    "# THREADED SOLUTION\n",
    "\n",
    "# def work_on_letter(worker, letter):\n",
    "#     being_worked_on.add(letter)\n",
    "#     CURRENTLY_FREE[worker]=0\n",
    "#     print(f\"worker {worker} is working on letter {letter}\")\n",
    "#     sleep(step_time[letter])\n",
    "#     print(f\"worker {worker} is done working on letter {letter}\")\n",
    "#     solution.append(letter)\n",
    "#     CURRENTLY_FREE[worker]=1\n",
    "\n",
    "\n",
    "# with concurrent.futures.ThreadPoolExecutor(max_workers=5) as executor:\n",
    "#     while(len(solution)<num_steps):\n",
    "#         next_step=list(set(next_step)-set(solution))\n",
    "#         for key, dependencies in locks.items():\n",
    "#             if (set(dependencies) <= set(solution)) and key not in solution and key not in being_worked_on:\n",
    "#                 next_step.append(key)\n",
    "#         next_step=sorted(next_step)\n",
    "#         for i, val in enumerate(CURRENTLY_FREE):\n",
    "#             if val==1 and next_step:\n",
    "#                 executor.submit(work_on_letter, i, next_step[0])\n",
    "#                 next_step=next_step[1:] \n",
    "# print_result(\"\".join(solution))"
   ]
  },
  {
   "cell_type": "markdown",
   "metadata": {},
   "source": [
    "# LEVEL 8"
   ]
  },
  {
   "cell_type": "markdown",
   "metadata": {},
   "source": [
    "## setup"
   ]
  },
  {
   "cell_type": "code",
   "execution_count": 36,
   "metadata": {},
   "outputs": [
    {
     "name": "stdout",
     "output_type": "stream",
     "text": [
      "9\n"
     ]
    }
   ],
   "source": [
    "tree_test = get_level_input(8).split(\" \")\n",
    "_tree_test = [int(x) for x in tree_test]\n",
    "print(tree_test[0])\n",
    "class Node:\n",
    "    \"\"\"\n",
    "    Class Node\n",
    "    \"\"\"\n",
    "    def __init__(self, num_children, num_data):\n",
    "        self.num_data = num_data\n",
    "        self.num_children = num_children\n",
    "        self.meta_data = []\n",
    "        self.children = []\n",
    "        \n",
    "    def __str__(self):\n",
    "        return f\"NUM_CHILDREN: {self.num_children} && NUM_DATA: {self.num_data}\"\n",
    "ROOT = Node(_tree_test[0], _tree_test[1])"
   ]
  },
  {
   "cell_type": "code",
   "execution_count": 37,
   "metadata": {},
   "outputs": [
    {
     "name": "stdout",
     "output_type": "stream",
     "text": [
      "2\n"
     ]
    }
   ],
   "source": [
    "tree_test =\"2 3 0 3 10 11 12 1 1 0 1 99 2 1 1 2\".split(\" \")\n",
    "_tree_test = [int(x) for x in tree_test]\n",
    "\n",
    "\n",
    "print(tree_test[0])\n",
    "class Node:\n",
    "    \"\"\"\n",
    "    Class Node\n",
    "    \"\"\"\n",
    "    def __init__(self, num_children, num_data):\n",
    "        self.num_data = num_data\n",
    "        self.num_children = num_children\n",
    "        self.meta_data = []\n",
    "        self.children = []\n",
    "        \n",
    "    def __str__(self):\n",
    "        return f\"NUM_CHILDREN: {self.num_children} && NUM_DATA: {self.num_data} && MEDATADATA: {self.meta_data}\"\n",
    "ROOT = Node(_tree_test[0], _tree_test[1])"
   ]
  },
  {
   "cell_type": "markdown",
   "metadata": {},
   "source": [
    "## part one"
   ]
  },
  {
   "cell_type": "code",
   "execution_count": 40,
   "metadata": {},
   "outputs": [
    {
     "name": "stdout",
     "output_type": "stream",
     "text": [
      "4\n",
      "CPU times: user 236 µs, sys: 106 µs, total: 342 µs\n",
      "Wall time: 277 µs\n"
     ]
    }
   ],
   "source": [
    "%%time\n",
    "TOTAL_META =0\n",
    "\n",
    "def create_tree_find_meta(node):\n",
    "    global tree_f\n",
    "    global TOTAL_META\n",
    "    for i in range(node.num_children):\n",
    "        num_c=tree_f[0]\n",
    "        num_m=tree_f[1]\n",
    "        tree_f=tree_f[2:]\n",
    "        node.children.append(create_tree(Node(num_c, num_m)))\n",
    "    node.meta_data, tree_f = tree_f[:node.num_data], tree_f[node.num_data:]\n",
    "    TOTAL_META+=sum(node.meta_data)\n",
    "    return node\n",
    "\n",
    "tree_f = _tree_test[2:]\n",
    "tree = create_tree_find_meta(ROOT)\n",
    "print(TOTAL_META)"
   ]
  },
  {
   "cell_type": "markdown",
   "metadata": {},
   "source": [
    "## part two"
   ]
  },
  {
   "cell_type": "code",
   "execution_count": 39,
   "metadata": {},
   "outputs": [
    {
     "name": "stdout",
     "output_type": "stream",
     "text": [
      "'RESULT: 66'\n",
      "\n",
      "'TIME............................................................'\n",
      "CPU times: user 360 µs, sys: 84 µs, total: 444 µs\n",
      "Wall time: 443 µs\n"
     ]
    }
   ],
   "source": [
    "%%time\n",
    "\n",
    "def create_tree(node):\n",
    "    global tree_f\n",
    "    for i in range(node.num_children):\n",
    "        num_c=tree_f[0]\n",
    "        num_m=tree_f[1]\n",
    "        tree_f=tree_f[2:]\n",
    "        node.children.append(create_tree(Node(num_c, num_m)))\n",
    "    node.meta_data, tree_f = tree_f[:node.num_data], tree_f[node.num_data:]\n",
    "    return node\n",
    "\n",
    "TOTAL_META=0\n",
    "def meta_value(node):\n",
    "    global TOTAL_META\n",
    "    if(node.num_children==0):\n",
    "        TOTAL_META+=sum(node.meta_data)\n",
    "        return node\n",
    "    else:\n",
    "        for value in node.meta_data:\n",
    "            if(value<=node.num_children):\n",
    "                meta_value(node.children[value-1])\n",
    "            \n",
    "    \n",
    "tree_f = _tree_test[2:]\n",
    "tree = create_tree(ROOT)\n",
    "meta_value(tree)\n",
    "print_result(TOTAL_META)"
   ]
  },
  {
   "cell_type": "markdown",
   "metadata": {},
   "source": [
    "# LEVEL 9"
   ]
  },
  {
   "cell_type": "markdown",
   "metadata": {},
   "source": [
    "## thoughts and preparation\n",
    "\n",
    "using a doubly linked list instantly seemed like the cleanest approach because of the rapid insert and removal times near the head. Modified a doubly linked list into a MarbleGameLinkedList class featuring two methods that define the specific insert and removal rules.\n",
    "\n",
    "Though I am convinced there is a more elegant solution for part two, I am unable to find it.\n",
    "\n",
    "Also curious as to the comparable speed of a more naive python list implementation. Might check that out in the future. "
   ]
  },
  {
   "cell_type": "markdown",
   "metadata": {},
   "source": [
    "## setup"
   ]
  },
  {
   "cell_type": "code",
   "execution_count": 41,
   "metadata": {},
   "outputs": [
    {
     "name": "stdout",
     "output_type": "stream",
     "text": [
      "['473 players', ' last marble is worth 70904 point']\n"
     ]
    }
   ],
   "source": [
    "marble_rules = get_level_input(9).split(';')\n",
    "print(marble_rules)"
   ]
  },
  {
   "cell_type": "markdown",
   "metadata": {},
   "source": [
    "## part one"
   ]
  },
  {
   "cell_type": "code",
   "execution_count": 42,
   "metadata": {},
   "outputs": [
    {
     "name": "stdout",
     "output_type": "stream",
     "text": [
      "max achieved by player #318\n",
      "'RESULT: 371284'\n",
      "\n",
      "'TIME............................................................'\n",
      "CPU times: user 168 ms, sys: 8.09 ms, total: 176 ms\n",
      "Wall time: 176 ms\n"
     ]
    }
   ],
   "source": [
    "%%time\n",
    "\n",
    "game_board = MarbleGameLinkedList()\n",
    "game_board.add_marble(0)\n",
    "NUMBER_PLAYERS = int(marble_rules[0].split(\" \")[0])\n",
    "NUMBER_MARBLES = int(marble_rules[1].split(\" \")[5])\n",
    "scores=[0 for x in range(NUMBER_PLAYERS)]\n",
    "\n",
    "for x in (range(1, NUMBER_MARBLES+1)):\n",
    "    if(x%23 == 0):\n",
    "        scores[(x%NUMBER_PLAYERS)]+=x\n",
    "        scores[(x%NUMBER_PLAYERS)]+=game_board.remove_seven()\n",
    "    else:\n",
    "        game_board.add_marble(x)\n",
    "print(f\"max achieved by player #{scores.index(max(scores))+1}\")\n",
    "print_result(max(scores))"
   ]
  },
  {
   "cell_type": "markdown",
   "metadata": {},
   "source": [
    "## part two"
   ]
  },
  {
   "cell_type": "code",
   "execution_count": 43,
   "metadata": {},
   "outputs": [
    {
     "name": "stdout",
     "output_type": "stream",
     "text": [
      "max achieved by player #345\n",
      "'RESULT: 3038972494'\n",
      "\n",
      "'TIME............................................................'\n",
      "CPU times: user 16.7 s, sys: 491 ms, total: 17.2 s\n",
      "Wall time: 17.4 s\n"
     ]
    }
   ],
   "source": [
    "%%time\n",
    "\n",
    "game_board = MarbleGameLinkedList()\n",
    "game_board.add_marble(0)\n",
    "NUMBER_MARBLES = int(marble_rules[1].split(\" \")[5])\n",
    "scores=[0 for x in range(NUMBER_PLAYERS)]\n",
    "NUMBER_MARBLES = int(marble_rules[1].split(\" \")[5])*100\n",
    "\n",
    "for x in (range(1, NUMBER_MARBLES+1)):\n",
    "    if(x%23 == 0):\n",
    "        scores[(x%NUMBER_PLAYERS)]+=x\n",
    "        scores[(x%NUMBER_PLAYERS)]+=game_board.remove_seven()\n",
    "    else:\n",
    "        game_board.add_marble(x)\n",
    "print(f\"max achieved by player #{scores.index(max(scores))+1}\")\n",
    "print_result(max(scores))"
   ]
  },
  {
   "cell_type": "markdown",
   "metadata": {},
   "source": [
    "# LEVEL 10"
   ]
  },
  {
   "cell_type": "markdown",
   "metadata": {},
   "source": [
    "### Assumptions\n",
    "This soliton makes a few assumptions that make it rather inflexible:\n",
    "- All stars contribute to the final message\n",
    "- The final size of the message"
   ]
  },
  {
   "cell_type": "markdown",
   "metadata": {},
   "source": [
    "## setup"
   ]
  },
  {
   "cell_type": "code",
   "execution_count": 4,
   "metadata": {},
   "outputs": [
    {
     "name": "stdout",
     "output_type": "stream",
     "text": [
      "Minimum X: 0\n",
      "Maximum X: 107161\n",
      "Minimum Y: 0\n",
      "Maximum Y: 107109\n"
     ]
    }
   ],
   "source": [
    "stars = get_level_input(10).split('\\n')\n",
    "\n",
    "stars = [re.findall('(\\<(.*?)\\>)', star) for star in stars]\n",
    "\n",
    "# turns stars into a list of position speed point pairs. \n",
    "stars = [ [list(map(int, star[0][1].split(\", \"))), tuple(map(int, star[1][1].split(\", \")))] for star in stars]\n",
    "\n",
    "min_x = min(x[0][0] for x in stars)\n",
    "max_x = max(x[0][0] for x in stars)\n",
    "min_y = min(y[0][1] for y in stars)\n",
    "max_y = max(y[0][1] for y in stars)\n",
    "\n",
    "# make 0 the minimum position for a star (makes it easier to plot)\n",
    "for star in stars:\n",
    "    star[0][0]+=abs(min_x)\n",
    "    star[0][1]+=abs(min_y)\n",
    "max_x += abs(min_x)\n",
    "min_x = 0\n",
    "max_y += abs(min_y)\n",
    "min_y = 0\n",
    "\n",
    "REASONABLE_MAX_X = 10\n",
    "REASONABLE_MAX_Y = 10\n",
    "\n",
    "print(f\"Minimum X: {min_x}\")\n",
    "print(f\"Maximum X: {max_x}\")\n",
    "print(f\"Minimum Y: {min_y}\")\n",
    "print(f\"Maximum Y: {max_y}\")\n",
    "\n",
    "def zero_index_position(stars, max_x, max_y):\n",
    "    min_x = min(x[0][0] for x in stars)\n",
    "    max_x = max(x[0][0] for x in stars)\n",
    "    min_y = min(y[0][1] for y in stars)\n",
    "    max_y = max(y[0][1] for y in stars)\n",
    "\n",
    "    # make 0 the minimum position for a star (makes it easier to plot)\n",
    "    for star in stars:\n",
    "        star[0][0]-=abs(min_x)\n",
    "        star[0][1]-=abs(min_y)\n",
    "    max_x -= abs(min_x)\n",
    "    min_x = 0\n",
    "    max_y -= abs(min_y)\n",
    "    min_y = 0\n",
    "    return stars, max_x, max_y\n",
    "\n",
    "def stars_to_set(stars):\n",
    "    star_set = set((star[0][0], star[0][1]) for star in stars)\n",
    "    return star_set\n",
    "\n",
    "def print_grid(stars):\n",
    "    grid = [['.']*(max_x+1) for i in range(max_y+1)]\n",
    "    for star in stars_to_set(stars):\n",
    "        grid[star[1]][star[0]]='X'\n",
    "    for line in grid:\n",
    "        print(\"\".join(line))\n",
    "        \n",
    "def star_step(stars):\n",
    "    for star in stars:\n",
    "        star[0][0]+=star[1][0]\n",
    "        star[0][1]+=star[1][1]\n",
    "    return stars\n"
   ]
  },
  {
   "cell_type": "markdown",
   "metadata": {},
   "source": [
    "## part one"
   ]
  },
  {
   "cell_type": "code",
   "execution_count": 45,
   "metadata": {},
   "outputs": [
    {
     "name": "stdout",
     "output_type": "stream",
     "text": [
      "XXXXXX..XXXXX.....XX....XXXXX...X....X..X....X.....XXX...XXXX.\n",
      ".....X..X....X...X..X...X....X..X....X..X....X......X...X....X\n",
      ".....X..X....X..X....X..X....X...X..X....X..X.......X...X.....\n",
      "....X...X....X..X....X..X....X...X..X....X..X.......X...X.....\n",
      "...X....XXXXX...X....X..XXXXX.....XX......XX........X...X.....\n",
      "..X.....X..X....XXXXXX..X....X....XX......XX........X...X.....\n",
      ".X......X...X...X....X..X....X...X..X....X..X.......X...X.....\n",
      "X.......X...X...X....X..X....X...X..X....X..X...X...X...X.....\n",
      "X.......X....X..X....X..X....X..X....X..X....X..X...X...X....X\n",
      "XXXXXX..X....X..X....X..XXXXX...X....X..X....X...XXX.....XXXX.\n",
      "CPU times: user 3.42 s, sys: 10.7 ms, total: 3.43 s\n",
      "Wall time: 3.44 s\n"
     ]
    }
   ],
   "source": [
    "%%time\n",
    "    \n",
    "\n",
    "rlist = list(itertools.takewhile(lambda x: x >= 20, inputlist))    \n",
    "    \n",
    "while(max_x>REASONABLE_MAX_X and max_y>REASONABLE_MAX_Y):\n",
    "    stars = star_step(stars)\n",
    "    stars, max_x, max_y = zero_index_position(stars, max_x, max_y)\n",
    "print_grid(stars)"
   ]
  },
  {
   "cell_type": "markdown",
   "metadata": {},
   "source": [
    "## part two"
   ]
  },
  {
   "cell_type": "code",
   "execution_count": 46,
   "metadata": {},
   "outputs": [
    {
     "name": "stdout",
     "output_type": "stream",
     "text": [
      "'RESULT: 0'\n",
      "\n",
      "'TIME............................................................'\n",
      "CPU times: user 267 µs, sys: 181 µs, total: 448 µs\n",
      "Wall time: 272 µs\n"
     ]
    }
   ],
   "source": [
    "%%time\n",
    "       \n",
    "SECONDS=0\n",
    "while(max_x>REASONABLE_MAX_X and max_y>REASONABLE_MAX_Y):\n",
    "    SECONDS+=1\n",
    "    stars = star_step(stars)\n",
    "    stars, max_x, max_y = zero_index_position(stars, max_x, max_y)\n",
    "print_result(SECONDS)"
   ]
  },
  {
   "cell_type": "markdown",
   "metadata": {},
   "source": [
    "# LEVEL 11"
   ]
  },
  {
   "cell_type": "markdown",
   "metadata": {},
   "source": [
    "## setup"
   ]
  },
  {
   "cell_type": "code",
   "execution_count": 5,
   "metadata": {},
   "outputs": [],
   "source": [
    "grid_serial_number = int(get_level_input(11))\n",
    "\n",
    "grid_size = 300\n",
    "\n",
    "def get_cell_power(i, j):\n",
    "    rack_id = i+10\n",
    "    power_level = int(str(((rack_id*j) + grid_serial_number) * rack_id)[-3])-5\n",
    "    return power_level\n",
    "\n",
    "\n",
    "grid = np.zeros((grid_size, grid_size))\n",
    "for x in range(grid_size):\n",
    "    for y in range(grid_size):  \n",
    "        grid[x,y] = get_cell_power(x+1, y+1)"
   ]
  },
  {
   "cell_type": "markdown",
   "metadata": {},
   "source": [
    "## part one"
   ]
  },
  {
   "cell_type": "code",
   "execution_count": 7,
   "metadata": {},
   "outputs": [
    {
     "name": "stdout",
     "output_type": "stream",
     "text": [
      "'RESULT: 34,13'\n",
      "\n",
      "'TIME............................................................'\n",
      "CPU times: user 366 ms, sys: 3.07 ms, total: 369 ms\n",
      "Wall time: 402 ms\n"
     ]
    }
   ],
   "source": [
    "%%time\n",
    "power_levels = np.zeros((grid_size-2, grid_size-2))\n",
    "for i in range(1,grid_size-1):\n",
    "    for j in range(1,grid_size-1):\n",
    "        power_levels[i-1,j-1] = grid[i-1:i+2,j-1:j+2].sum()\n",
    "col = np.argmax(np.max(power_levels, axis=1))\n",
    "row = np.argmax(np.max(power_levels, axis=0))\n",
    "print_result(f\"{col+1},{row+1}\")"
   ]
  },
  {
   "cell_type": "markdown",
   "metadata": {},
   "source": [
    "## part two"
   ]
  },
  {
   "cell_type": "code",
   "execution_count": 51,
   "metadata": {},
   "outputs": [
    {
     "ename": "NameError",
     "evalue": "name 'grid_size' is not defined",
     "output_type": "error",
     "traceback": [
      "\u001b[0;31m---------------------------------------------------------------------------\u001b[0m",
      "\u001b[0;31mNameError\u001b[0m                                 Traceback (most recent call last)",
      "\u001b[0;32m<timed exec>\u001b[0m in \u001b[0;36m<module>\u001b[0;34m\u001b[0m\n",
      "\u001b[0;31mNameError\u001b[0m: name 'grid_size' is not defined"
     ]
    }
   ],
   "source": [
    "%%time\n",
    "power_levels = {i: np.zeros((grid_size-i+1, grid_size-i+1)) for i in range(1,grid_size+1)}\n",
    "for size in range(1, grid_size+1):\n",
    "    for i in range(0,grid_size-size):\n",
    "        for j in range(0,grid_size-size):\n",
    "            power_levels[size][i,j] = grid[i:i+size,j:j+size].sum()\n",
    "max_val = 0\n",
    "max_key = 0\n",
    "for key in power_levels.keys():\n",
    "    _max = np.max(power_levels[key])\n",
    "    if(_max > max_val):\n",
    "        max_key = key\n",
    "        max_val = _max\n",
    "        col = np.argmax(np.max(power_levels[key], axis=1))\n",
    "        row = np.argmax(np.max(power_levels[key], axis=0))\n",
    "print_result(f\"{col+1},{row+1},{max_key}\")\n"
   ]
  },
  {
   "cell_type": "markdown",
   "metadata": {},
   "source": [
    "# LEVEL 12"
   ]
  },
  {
   "cell_type": "markdown",
   "metadata": {},
   "source": [
    "## setup"
   ]
  },
  {
   "cell_type": "code",
   "execution_count": 71,
   "metadata": {},
   "outputs": [],
   "source": [
    "plants = get_level_input(12).splitlines()\n",
    "# plants = \"\"\"initial state: ...#..#.#..##......###...###...........\n",
    "\n",
    "# ...## => #\n",
    "# ..#.. => #\n",
    "# .#... => #\n",
    "# .#.#. => #\n",
    "# .#.## => #\n",
    "# .##.. => #\n",
    "# .#### => #\n",
    "# #.#.# => #\n",
    "# #.### => #\n",
    "# ##.#. => #\n",
    "# ##.## => #\n",
    "# ###.. => #\n",
    "# ###.# => #\n",
    "# ####. => #\"\"\".splitlines()\n",
    "initial_state = \"...\"+plants[0].split(\":\")[1][1:]+\".....\"\n",
    "\n",
    "pot_number_shift = 3\n",
    "num_generations = 20\n",
    "rules = { x.split(\" => \")[0]:x.split(\" => \")[1] for x in plants[2:]}"
   ]
  },
  {
   "cell_type": "markdown",
   "metadata": {},
   "source": [
    "## part one"
   ]
  },
  {
   "cell_type": "code",
   "execution_count": 80,
   "metadata": {},
   "outputs": [
    {
     "name": "stdout",
     "output_type": "stream",
     "text": [
      "'RESULT: 3738'\n",
      "\n",
      "'TIME............................................................'\n",
      "CPU times: user 1.22 ms, sys: 66 µs, total: 1.29 ms\n",
      "Wall time: 1.25 ms\n"
     ]
    }
   ],
   "source": [
    "%%time\n",
    "def plant_cycle(plants):\n",
    "    new_plants=[]\n",
    "    plants+=\".....\"\n",
    "    for i in range(len(plants)-2):\n",
    "        if(i<2):\n",
    "            window = ((2-i)*\".\"+plants[:i+3])\n",
    "        else: \n",
    "            window = plants[i-2:i+3]\n",
    "        new_plants.append(rules[window])\n",
    "    return (\"\".join(new_plants)).rstrip(\".\")\n",
    "\n",
    "plant_state = initial_state\n",
    "for i in range(num_generations):\n",
    "    plant_state = plant_cycle(plant_state)\n",
    "\n",
    "total = 0\n",
    "for i in range(len(plant_state)):\n",
    "    if(plant_state[i] == '#'):\n",
    "        total+=(i-pot_number_shift)\n",
    "        \n",
    "print_result(total)"
   ]
  },
  {
   "cell_type": "markdown",
   "metadata": {},
   "source": [
    "## part two"
   ]
  },
  {
   "cell_type": "code",
   "execution_count": 157,
   "metadata": {},
   "outputs": [
    {
     "name": "stdout",
     "output_type": "stream",
     "text": [
      "CPU times: user 1.06 s, sys: 6.3 ms, total: 1.06 s\n",
      "Wall time: 1.07 s\n"
     ]
    }
   ],
   "source": [
    "%%time\n",
    "num_generations = 2000\n",
    "total_pattern = []\n",
    "def plant_cycle(plants):\n",
    "    new_plants=[]\n",
    "    plants+=\".....\"\n",
    "    for i in range(len(plants)-2):\n",
    "        if(i<2):\n",
    "            window = ((2-i)*\".\"+plants[:i+3])\n",
    "        else: \n",
    "            window = plants[i-2:i+3]\n",
    "        new_plants.append(rules[window])\n",
    "    return (\"\".join(new_plants)).rstrip(\".\")\n",
    "\n",
    "plant_state = initial_state\n",
    "for i in range(num_generations):\n",
    "    plant_state = plant_cycle(plant_state)\n",
    "    total = 0\n",
    "    for i in range(len(plant_state)):\n",
    "        if(plant_state[i] == '#'):\n",
    "            total+=(i-pot_number_shift)\n",
    "    total_pattern.append(total)\n",
    "    "
   ]
  },
  {
   "cell_type": "code",
   "execution_count": 164,
   "metadata": {},
   "outputs": [
    {
     "data": {
      "text/plain": [
       "[<matplotlib.lines.Line2D at 0x116fbca10>]"
      ]
     },
     "execution_count": 164,
     "metadata": {},
     "output_type": "execute_result"
    },
    {
     "data": {
      "image/png": "[encoded data removed]",
      "text/plain": [
       "<Figure size 432x288 with 1 Axes>"
      ]
     },
     "metadata": {
      "needs_background": "light"
     },
     "output_type": "display_data"
    }
   ],
   "source": [
    "import matplotlib.pyplot as plt\n",
    "plt.plot(total_pattern)"
   ]
  },
  {
   "cell_type": "code",
   "execution_count": 166,
   "metadata": {},
   "outputs": [
    {
     "name": "stdout",
     "output_type": "stream",
     "text": [
      "CPU times: user 2 µs, sys: 0 ns, total: 2 µs\n",
      "Wall time: 5.96 µs\n",
      "78.0\n",
      "'RESULT: 3900000002467'\n",
      "\n",
      "'TIME............................................................'\n"
     ]
    }
   ],
   "source": [
    "%time\n",
    "total_pattern[len(total_pattern)-1]-total_pattern[len(total_pattern)-2]\n",
    "linear_term = np.polyfit(range(len(total_pattern)), total_pattern, 1)[0]//1\n",
    "print(linear_term)\n",
    "lin_generation = 0\n",
    "for i in range(len(total_pattern)-1):\n",
    "    if(total_pattern[i+1]-total_pattern[i] == 78):\n",
    "        lin_generation = i\n",
    "        break\n",
    "print_result(int(total_pattern[i]+linear_term*(50000000000-99)))\n",
    "\n"
   ]
  },
  {
   "cell_type": "markdown",
   "metadata": {},
   "source": [
    "# LEVEL 13"
   ]
  },
  {
   "cell_type": "raw",
   "metadata": {},
   "source": [
    "## INITIAL THOUGHTS\n",
    "\n",
    "- Represent minecarts as a list of points and direction, which can then be sorted to see the order which they should move in\n",
    "- Read the whole map into a 2d array"
   ]
  },
  {
   "cell_type": "markdown",
   "metadata": {},
   "source": [
    "## setup"
   ]
  },
  {
   "cell_type": "code",
   "execution_count": 1,
   "metadata": {},
   "outputs": [
    {
     "ename": "NameError",
     "evalue": "name 'dataclass' is not defined",
     "output_type": "error",
     "traceback": [
      "\u001b[0;31m---------------------------------------------------------------------------\u001b[0m",
      "\u001b[0;31mNameError\u001b[0m                                 Traceback (most recent call last)",
      "\u001b[0;32m<ipython-input-1-c2697cbb3d78>\u001b[0m in \u001b[0;36m<module>\u001b[0;34m\u001b[0m\n\u001b[1;32m     11\u001b[0m \u001b[0mTURN_ORDER\u001b[0m \u001b[0;34m=\u001b[0m \u001b[0;34m[\u001b[0m\u001b[0;34m'left'\u001b[0m\u001b[0;34m,\u001b[0m\u001b[0;34m'straight'\u001b[0m\u001b[0;34m,\u001b[0m\u001b[0;34m'right'\u001b[0m\u001b[0;34m]\u001b[0m\u001b[0;34m\u001b[0m\u001b[0;34m\u001b[0m\u001b[0m\n\u001b[1;32m     12\u001b[0m \u001b[0;34m\u001b[0m\u001b[0m\n\u001b[0;32m---> 13\u001b[0;31m \u001b[0;34m@\u001b[0m\u001b[0mdataclass\u001b[0m\u001b[0;34m\u001b[0m\u001b[0;34m\u001b[0m\u001b[0m\n\u001b[0m\u001b[1;32m     14\u001b[0m \u001b[0;32mclass\u001b[0m \u001b[0mCart\u001b[0m\u001b[0;34m:\u001b[0m\u001b[0;34m\u001b[0m\u001b[0;34m\u001b[0m\u001b[0m\n\u001b[1;32m     15\u001b[0m     \u001b[0mloc\u001b[0m\u001b[0;34m:\u001b[0m \u001b[0mlist\u001b[0m\u001b[0;34m\u001b[0m\u001b[0;34m\u001b[0m\u001b[0m\n",
      "\u001b[0;31mNameError\u001b[0m: name 'dataclass' is not defined"
     ]
    }
   ],
   "source": [
    "H_T = '-'\n",
    "V_T = '|'\n",
    "X = '+'\n",
    "C_R = '/'\n",
    "C_L = '\\\\'\n",
    "\n",
    "X = 1\n",
    "Y = 0\n",
    "\n",
    "CART_TYPES = ['>', '^', '<','v']\n",
    "TURN_ORDER = ['left','straight','right']\n",
    "\n",
    "@dataclass\n",
    "class Cart:\n",
    "    loc: list \n",
    "    dire: chr \n",
    "    turn: int = 0\n",
    "   \n",
    "tracks = get_level_input(13).splitlines()\n",
    "# print(tracks)\n",
    "# tracks = [\"/->-\\\\        \",\"|   |  /----\\\\\",\"| /-+--+-\\\\  |\",\"| | |  | v  |\",\"\\\\-+-/  \\\\-+--/\",\"  \\\\------/   \"]\n",
    "# tracks = [\"/>-<\\\\  \",\"|   |  \",\"| /<+-\\\\\",\"| | | v\",\"\\\\>+</ |\",\"  |   ^\",\"  \\\\<->/\"]\n",
    "\n",
    "main_track_grid = np.array([list(row) for row in tracks])\n",
    "main_carts = []\n",
    "\n",
    "def add_carts(cart_locs, cart_type):\n",
    "    for cart_loc in cart_locs:\n",
    "        main_carts.append(Cart(list(cart_loc), cart_type))\n",
    "        main_track_grid[tuple(cart_loc)] = H_T if cart_type in ['<', '>'] else V_T\n",
    "\n",
    "for cart_type in CART_TYPES:\n",
    "    cart_locs = np.where(main_track_grid == cart_type)\n",
    "    if(len(cart_locs[0])):\n",
    "        cart_locs = list(zip(cart_locs[0], cart_locs[1]))\n",
    "        add_carts(cart_locs, cart_type)\n",
    "        \n",
    "def print_track():\n",
    "    print_track_grid = deepcopy(track_grid)\n",
    "    for cart in carts:\n",
    "        print_track_grid[tuple(cart.loc)] = cart.dire\n",
    "    for line in print_track_grid:\n",
    "        print(\"\".join(line))"
   ]
  },
  {
   "cell_type": "markdown",
   "metadata": {},
   "source": [
    "## part one"
   ]
  },
  {
   "cell_type": "code",
   "execution_count": 9,
   "metadata": {},
   "outputs": [
    {
     "name": "stdout",
     "output_type": "stream",
     "text": [
      "'RESULT: 117,62'\n",
      "\n",
      "'TIME............................................................'\n"
     ]
    }
   ],
   "source": [
    "%%time\n",
    "carts = deepcopy(main_carts)\n",
    "track_grid = deepcopy(main_track_grid)\n",
    "\n",
    "def check_for_crash(): \n",
    "    cart_locs = [tuple(cart.loc) for cart in carts]\n",
    "    location_counter = collections.Counter(cart_locs)\n",
    "    for key in location_counter:\n",
    "        if(location_counter[key]>=2):\n",
    "            print_result(f\"{key[X]},{key[Y]}\")\n",
    "            raise StopExecution\n",
    "         \n",
    "def up_down(cart):\n",
    "    if(cart.dire == '^'): cart.loc[Y] -= 1\n",
    "    if(cart.dire == 'v'): cart.loc[Y] += 1\n",
    "        \n",
    "def left_right(cart):\n",
    "    if(cart.dire == '>'): cart.loc[X] += 1\n",
    "    if(cart.dire == '<'): cart.loc[X] -= 1\n",
    "        \n",
    "def curve_right(cart):\n",
    "    if(cart.dire == '>'):\n",
    "        cart.dire = '^'\n",
    "        cart.loc[Y] -= 1\n",
    "    elif(cart.dire == '^'):\n",
    "        cart.dire = '>'\n",
    "        cart.loc[X] += 1\n",
    "    elif(cart.dire == '<'):\n",
    "        cart.dire = 'v'\n",
    "        cart.loc[Y] += 1\n",
    "    elif(cart.dire == 'v'):\n",
    "        cart.dire = '<'\n",
    "        cart.loc[X] -= 1\n",
    "\n",
    "def curve_left(cart):\n",
    "    if(cart.dire == '>'):\n",
    "        cart.dire = 'v'\n",
    "        cart.loc[Y] += 1\n",
    "    elif(cart.dire == '^'):\n",
    "        cart.dire = '<'\n",
    "        cart.loc[X] -= 1\n",
    "    elif(cart.dire == '<'):\n",
    "        cart.dire = '^'\n",
    "        cart.loc[Y] -= 1\n",
    "    elif(cart.dire == 'v'):\n",
    "        cart.dire = '>'\n",
    "        cart.loc[X] += 1\n",
    "\n",
    "def intersection(cart):\n",
    "    direction = (TURN_ORDER[cart.turn%3])\n",
    "    if direction == \"left\":\n",
    "        cart.dire = CART_TYPES[(CART_TYPES.index(cart.dire)+1)%4]\n",
    "        if cart.dire in ['^', 'v']: up_down(cart)\n",
    "        else: left_right(cart)\n",
    "    elif direction == \"straight\":\n",
    "        if cart.dire in ['^', 'v']: up_down(cart)\n",
    "        else: left_right(cart)\n",
    "    elif direction == \"right\":\n",
    "        cart.dire = CART_TYPES[(CART_TYPES.index(cart.dire)-1)]\n",
    "        if cart.dire in ['^', 'v']: up_down(cart)\n",
    "        else: left_right(cart)\n",
    "    cart.turn+=1\n",
    "\n",
    "def move_carts(cart):\n",
    "    direction = cart.dire\n",
    "    current_track = track_grid[tuple(cart.loc)]\n",
    "    result = {\n",
    "      '|': up_down,\n",
    "      '-': left_right,\n",
    "      '/': curve_right,\n",
    "      '\\\\': curve_left,\n",
    "      '+': intersection \n",
    "    }[current_track](cart)\n",
    "\n",
    "while True:\n",
    "    carts.sort(key = lambda x: x.loc)\n",
    "    for cart in carts:\n",
    "        move_carts(cart)\n",
    "        check_for_crash()\n",
    "    "
   ]
  },
  {
   "cell_type": "markdown",
   "metadata": {},
   "source": [
    "## part two"
   ]
  },
  {
   "cell_type": "code",
   "execution_count": 10,
   "metadata": {},
   "outputs": [
    {
     "name": "stdout",
     "output_type": "stream",
     "text": [
      "'RESULT: 69,67'\n",
      "\n",
      "'TIME............................................................'\n",
      "CPU times: user 629 ms, sys: 4.78 ms, total: 634 ms\n",
      "Wall time: 636 ms\n"
     ]
    }
   ],
   "source": [
    "%%time\n",
    "\n",
    "carts = deepcopy(main_carts)\n",
    "track_grid = deepcopy(main_track_grid)\n",
    "\n",
    "def print_track():\n",
    "    print_track_grid = track_grid.copy()\n",
    "    for cart in carts:\n",
    "        print_track_grid[tuple(cart.loc)] = cart.dire\n",
    "    for line in print_track_grid:\n",
    "        print(\"\".join(line))\n",
    "        \n",
    "\n",
    "def remove_crashes(cart_index): \n",
    "    before_cart = False\n",
    "    removed = False\n",
    "    cart_locs = [tuple(cart.loc) for cart in carts]\n",
    "    location_counter = collections.Counter(cart_locs)\n",
    "    for key in location_counter:\n",
    "        if(location_counter[key]>=2):\n",
    "            removed = True\n",
    "            carts.remove(carts[cart_index])\n",
    "            i = 0\n",
    "            while i != len(carts):\n",
    "                if(carts[i].loc == list(key)):\n",
    "                    carts.remove(carts[i])\n",
    "                    if(i < cart_index):\n",
    "                         before_cart = True\n",
    "                else:\n",
    "                    i+=1\n",
    "    return before_cart, removed\n",
    "         \n",
    "def up_down(cart):\n",
    "    if(cart.dire == '^'): cart.loc[Y] -= 1\n",
    "    if(cart.dire == 'v'): cart.loc[Y] += 1\n",
    "        \n",
    "def left_right(cart):\n",
    "    if(cart.dire == '>'): cart.loc[X] += 1\n",
    "    if(cart.dire == '<'): cart.loc[X] -= 1\n",
    "        \n",
    "def curve_right(cart):\n",
    "    if(cart.dire == '>'):\n",
    "        cart.dire = '^'\n",
    "        cart.loc[Y] -= 1\n",
    "    elif(cart.dire == '^'):\n",
    "        cart.dire = '>'\n",
    "        cart.loc[X] += 1\n",
    "    elif(cart.dire == '<'):\n",
    "        cart.dire = 'v'\n",
    "        cart.loc[Y] += 1\n",
    "    elif(cart.dire == 'v'):\n",
    "        cart.dire = '<'\n",
    "        cart.loc[X] -= 1\n",
    "\n",
    "def curve_left(cart):\n",
    "    if(cart.dire == '>'):\n",
    "        cart.dire = 'v'\n",
    "        cart.loc[Y] += 1\n",
    "    elif(cart.dire == '^'):\n",
    "        cart.dire = '<'\n",
    "        cart.loc[X] -= 1\n",
    "    elif(cart.dire == '<'):\n",
    "        cart.dire = '^'\n",
    "        cart.loc[Y] -= 1\n",
    "    elif(cart.dire == 'v'):\n",
    "        cart.dire = '>'\n",
    "        cart.loc[X] += 1\n",
    "\n",
    "def intersection(cart):\n",
    "    direction = (TURN_ORDER[cart.turn%3])\n",
    "    if direction == \"left\":\n",
    "        cart.dire = CART_TYPES[(CART_TYPES.index(cart.dire)+1)%4]\n",
    "        if cart.dire in ['^', 'v']: up_down(cart)\n",
    "        else: left_right(cart)\n",
    "    elif direction == \"straight\":\n",
    "        if cart.dire in ['^', 'v']: up_down(cart)\n",
    "        else: left_right(cart)\n",
    "    elif direction == \"right\":\n",
    "        cart.dire = CART_TYPES[(CART_TYPES.index(cart.dire)-1)]\n",
    "        if cart.dire in ['^', 'v']: up_down(cart)\n",
    "        else: left_right(cart)\n",
    "    cart.turn+=1\n",
    "\n",
    "def move_carts(cart):\n",
    "    direction = cart.dire\n",
    "    current_track = track_grid[tuple(cart.loc)]\n",
    "    result = {\n",
    "      '|': up_down,\n",
    "      '-': left_right,\n",
    "      '/': curve_right,\n",
    "      '\\\\': curve_left,\n",
    "      '+': intersection \n",
    "    }[current_track](cart)\n",
    "\n",
    "while len(carts)>1: \n",
    "    carts.sort(key = lambda x: x.loc)\n",
    "    i = 0\n",
    "    while(i < len(carts)):\n",
    "        move_carts(carts[i])\n",
    "        removed, before_cart = remove_crashes(i)\n",
    "        if(before_cart):\n",
    "            i-=1\n",
    "        if(not removed):\n",
    "            i+=1\n",
    "            \n",
    "print_result(f\"{carts[0].loc[X]},{carts[0].loc[Y]}\")"
   ]
  },
  {
   "cell_type": "markdown",
   "metadata": {},
   "source": [
    "# LEVEL 14"
   ]
  },
  {
   "cell_type": "markdown",
   "metadata": {},
   "source": [
    "## setup"
   ]
  },
  {
   "cell_type": "code",
   "execution_count": 28,
   "metadata": {},
   "outputs": [
    {
     "name": "stdout",
     "output_type": "stream",
     "text": [
      "681901\n"
     ]
    }
   ],
   "source": [
    "trial_recipe_count = int(get_level_input(14))\n",
    "# trial_recipe_count = 59414\n",
    "test_size = 10\n",
    "\n",
    "elf_one = [3, 0]\n",
    "elf_two = [7, 1]\n",
    "\n",
    "recipe_list = [3,7]\n",
    "match_list = (list(str(trial_recipe_count)))\n",
    "len_match = len(match_list)\n",
    "print((\"\".join(match_list)))"
   ]
  },
  {
   "cell_type": "markdown",
   "metadata": {},
   "source": [
    "## part one"
   ]
  },
  {
   "cell_type": "code",
   "execution_count": 29,
   "metadata": {},
   "outputs": [
    {
     "name": "stdout",
     "output_type": "stream",
     "text": [
      "'RESULT: 1617111014'\n",
      "\n",
      "'TIME............................................................'\n",
      "CPU times: user 1.18 s, sys: 11 ms, total: 1.2 s\n",
      "Wall time: 1.2 s\n"
     ]
    }
   ],
   "source": [
    "%%time\n",
    "\n",
    "while(len(recipe_list) != trial_recipe_count + test_size):\n",
    "    recipe_sum = elf_one[0]+elf_two[0]\n",
    "    recipe_string = str(recipe_sum)\n",
    "    for val in list(recipe_string):\n",
    "        recipe_list.append(int(val))\n",
    "    elf_one[1]= (elf_one[1]+elf_one[0]+1)%len(recipe_list)\n",
    "    elf_one[0] = recipe_list[elf_one[1]]\n",
    "    \n",
    "    elf_two[1]= (elf_two[1]+elf_two[0]+1)%len(recipe_list)\n",
    "    elf_two[0] = recipe_list[elf_two[1]]\n",
    "recipe_string = \"\".join([str(x) for x in recipe_list[-10:]])\n",
    "print_result(recipe_string)"
   ]
  },
  {
   "cell_type": "markdown",
   "metadata": {},
   "source": [
    "## part two"
   ]
  },
  {
   "cell_type": "code",
   "execution_count": 18,
   "metadata": {},
   "outputs": [
    {
     "name": "stdout",
     "output_type": "stream",
     "text": [
      "'RESULT: 20321495'\n",
      "\n",
      "'TIME............................................................'\n"
     ]
    }
   ],
   "source": [
    "%%time\n",
    "\n",
    "while(True):\n",
    "    recipe_sum = elf_one[0]+elf_two[0]\n",
    "    recipe_string = str(recipe_sum)\n",
    "    for val in list(recipe_string):\n",
    "        recipe_list.append(int(val))\n",
    "        if(\"\".join([str(x) for x in recipe_list[-len_match:]]) == \"\".join(match_list)):\n",
    "            print_result(len(recipe_list)-len_match)\n",
    "            raise StopExecution\n",
    "    elf_one[1]= (elf_one[1]+elf_one[0]+1)%len(recipe_list)\n",
    "    elf_one[0] = recipe_list[elf_one[1]]\n",
    "    \n",
    "    elf_two[1]= (elf_two[1]+elf_two[0]+1)%len(recipe_list)\n",
    "    elf_two[0] = recipe_list[elf_two[1]]\n",
    "print_result(len(recipe_list)-len_match)\n"
   ]
  },
  {
   "cell_type": "markdown",
   "metadata": {},
   "source": [
    "# LEVEL 15"
   ]
  },
  {
   "cell_type": "markdown",
   "metadata": {},
   "source": [
    "## setup"
   ]
  },
  {
   "cell_type": "code",
   "execution_count": 127,
   "metadata": {},
   "outputs": [],
   "source": [
    "examples = [\n",
    "  ([\n",
    "    \"#######\",\n",
    "    \"#G..#E#\",\n",
    "    \"#E#E.E#\",\n",
    "    \"#G.##.#\",\n",
    "    \"#...#E#\",\n",
    "    \"#...E.#\",\n",
    "    \"#######\"\n",
    "  ],\n",
    "  \"37*982=36334\"),\n",
    "  ([\n",
    "    \"#######\",\n",
    "    \"#.G...#\",\n",
    "    \"#...EG#\",\n",
    "    \"#.#.#G#\",\n",
    "    \"#..G#E#\",\n",
    "    \"#.....#\",\n",
    "    \"#######\"\n",
    "  ],\n",
    "  \"47*590=27730\"),\n",
    "  ([\n",
    "    \"#######\",\n",
    "    \"#E..EG#\",\n",
    "    \"#.#G.E#\",\n",
    "    \"#E.##E#\",\n",
    "    \"#G..#.#\",\n",
    "    \"#..E#.#\",\n",
    "    \"#######\"\n",
    "  ],\n",
    "  \"46*859=39514\"),\n",
    "  ([\n",
    "    \"#######\",\n",
    "    \"#E.G#.#\",\n",
    "    \"#.#G..#\",\n",
    "    \"#G.#.G#\",\n",
    "    \"#G..#.#\",\n",
    "    \"#...E.#\",\n",
    "    \"#######\"\n",
    "  ],\n",
    "  \"35*793=27755\"),\n",
    "  ([\n",
    "    \"#######\",\n",
    "    \"#.E...#\",\n",
    "    \"#.#..G#\",\n",
    "    \"#.###.#\",\n",
    "    \"#E#G#G#\",\n",
    "    \"#...#G#\",\n",
    "    \"#######\"\n",
    "  ],\n",
    "  \"54*536=28944\"),\n",
    "  ([\n",
    "    \"#########\",\n",
    "    \"#G......#\",\n",
    "    \"#.E.#...#\",\n",
    "    \"#..##..G#\",\n",
    "    \"#...##..#\",\n",
    "    \"#...#...#\",\n",
    "    \"#.G...G.#\",\n",
    "    \"#.....G.#\",\n",
    "    \"#########\"\n",
    "  ],\n",
    "  \"20*937=18740\"),\n",
    "  ([\n",
    "    \"#######\",\n",
    "    \"#######\",\n",
    "    \"#.E..G#\",\n",
    "    \"#.#####\",\n",
    "    \"#G#####\",\n",
    "    \"#######\",\n",
    "    \"#######\"\n",
    "  ],\n",
    "  \"Outcome: \"),\n",
    "  ([\n",
    "    \"####\", \n",
    "    \"#GG#\", \n",
    "    \"#.E#\", \n",
    "    \"####\"\n",
    "  ], \n",
    "  \"Outcome: \")\n",
    "];\n"
   ]
  },
  {
   "cell_type": "code",
   "execution_count": 128,
   "metadata": {},
   "outputs": [],
   "source": [
    "@dataclass\n",
    "class Unit:\n",
    "    loc: list\n",
    "    u_type: chr\n",
    "    health: int = 200\n",
    "    attack: int = 3\n",
    "\n",
    "UNIT_TYPES = ['E', 'G']\n",
    "WALL = '#'\n",
    "walls = set()\n",
    "X = 1\n",
    "Y = 0\n",
    "\n",
    "def add_units(unit_locs, unit_type, main_game_map, units):\n",
    "    for unit_loc in unit_locs:\n",
    "        unit = Unit(loc=unit_loc, u_type=unit_type)\n",
    "        units.append(unit)\n",
    "        main_game_map[tuple(unit_loc)] = '.'\n",
    "\n",
    "def set_up_game(raw_map):\n",
    "    main_game_map = np.array([list(row) for row in raw_map])\n",
    "    main_elves = []\n",
    "    main_goblins = []\n",
    "    walls = np.where(main_game_map == WALL)\n",
    "    if(len(walls[0])):\n",
    "        walls = set(zip(walls[0], walls[1]))\n",
    "    for unit_type in UNIT_TYPES:\n",
    "        unit_locs = np.where(main_game_map == unit_type)\n",
    "        if(len(unit_locs[0])):\n",
    "            unit_locs = list(zip(unit_locs[0], unit_locs[1]))\n",
    "            add_units(unit_locs, unit_type, main_game_map, main_elves if unit_type=='E' else main_goblins)\n",
    "    return main_game_map, walls, main_elves, main_goblins, main_elves+main_goblins\n",
    "\n",
    "def print_track(game_map, round_number):\n",
    "    plural = 's' if round_number>1 else ''\n",
    "    if(round == 0): print(\"Initially:\")\n",
    "    else: print(f\"After {round_number} round{plural}:\")\n",
    "    print_game_map = deepcopy(game_map)\n",
    "    for unit in all_units:\n",
    "        print_game_map[tuple(unit.loc)] = unit.u_type\n",
    "    for i, line in enumerate(print_game_map):\n",
    "        units_on_line = list(filter(lambda x: x.loc[0] == i, all_units))\n",
    "        units_on_line.sort(key = lambda x: x.loc)\n",
    "        print(\"\".join(line)+\"  \", end = ' ')\n",
    "        if(units_on_line):\n",
    "            for unit in units_on_line[:-1]:\n",
    "                print(f\"{unit.u_type}{unit.health}\", end = ',')\n",
    "            print(f\"{units_on_line[-1].u_type}{units_on_line[-1].health}\")\n",
    "        else:\n",
    "            print(\"\")\n",
    "    print(\"-----------------------------\\n\")\n",
    "\n",
    "def get_adjacent_spots(pos): \n",
    "     return {(pos[0]-1, pos[1]), (pos[0], pos[1]-1), (pos[0], pos[1]+1), (pos[0]+1, pos[1])} - walls"
   ]
  },
  {
   "cell_type": "markdown",
   "metadata": {},
   "source": [
    "## part one"
   ]
  },
  {
   "cell_type": "code",
   "execution_count": 138,
   "metadata": {},
   "outputs": [],
   "source": [
    "def find_closest_enemy(possible_destinations, current_location, covered_locations, all_units):\n",
    "    queue = [[current_location]]\n",
    "    while queue:\n",
    "        path = queue.pop(0)\n",
    "        loc = path[-1]\n",
    "        if loc in possible_destinations:\n",
    "            return path\n",
    "        adjacent_list = list(get_adjacent_spots(loc)- covered_locations- set([unit.loc for unit in all_units]))\n",
    "        for spot in adjacent_list:\n",
    "            queue.append(path + [spot])\n",
    "            covered_locations.add(spot)\n",
    "        queue.sort(key=lambda item: (len(item), item[1], item[::-1]))\n",
    "    return -1\n",
    "\n",
    "def get_enemy_from_path(spot_next_to_enemy, enemies):\n",
    "    adjacent_spots = list(get_adjacent_spots(spot_next_to_enemy))\n",
    "    adjacent_spots.sort()\n",
    "    enemies.sort(key = lambda x: (x.health, x.loc))\n",
    "    for enemy in enemies:\n",
    "        if(enemy.loc in adjacent_spots):\n",
    "            return enemy \n",
    "    \n",
    "def get_closest_enemy(unit, enemies, all_units):\n",
    "    possible_destinations = set()\n",
    "    enemies.sort(key = lambda x: (x.health, x.loc))\n",
    "    for enemy in enemies:\n",
    "        if(unit.loc in get_adjacent_spots(enemy.loc)): return [], enemy\n",
    "        possible_destinations = possible_destinations | (get_adjacent_spots(enemy.loc) - set([unit.loc for unit in all_units]))\n",
    "    path_to_closest_enemy = find_closest_enemy(possible_destinations, unit.loc, {unit.loc}, all_units)\n",
    "    if path_to_closest_enemy != -1:\n",
    "        return path_to_closest_enemy, get_enemy_from_path(path_to_closest_enemy[-1], enemies)\n",
    "    else:\n",
    "        return \"wait\", False\n",
    "\n",
    "def attack(unit, enemy):\n",
    "    enemy.health -= unit.attack\n",
    "    if(enemy.health <= 0):\n",
    "        enemies = elves if enemy.u_type == 'E' else goblins\n",
    "        index = all_units.index(enemy)\n",
    "        all_units.remove(enemy)\n",
    "        enemies.remove(enemy)\n",
    "        return index\n",
    "    return -1\n",
    "\n",
    "def unit_turn(unit, all_units, goblins, elves, game_map):\n",
    "    enemies = elves if unit.u_type == 'G' else goblins\n",
    "    path_to_enemy, enemy = get_closest_enemy(unit, enemies, all_units) # Get movement direction\n",
    "    \n",
    "    if(path_to_enemy != \"wait\"):                                       #Check if unit is stalled\n",
    "        if(path_to_enemy != []):\n",
    "            unit.loc = path_to_enemy.pop(1)                            # Move along best path\n",
    "        if(path_to_enemy == [] or len(path_to_enemy) == 1):\n",
    "            return attack(unit, enemy)\n",
    "    return -1\n",
    "\n",
    "def get_solution(all_units, round_number): \n",
    "    return f\"{round_number}*{sum([x.health for x in all_units])}={sum([x.health for x in all_units])*(round_number)}\"\n",
    "\n",
    "def play_game(all_units, goblins, elves, game_map, print_m = False):\n",
    "    all_units.sort(key = lambda x: x.loc)\n",
    "    round_number = 0\n",
    "    \n",
    "    if(print_m): print_track(game_map, round_number) # print map\n",
    "\n",
    "    while elves and goblins:\n",
    "        all_units.sort(key = lambda x: x.loc) \n",
    "        i=0\n",
    "        while i<len(all_units):\n",
    "            index = unit_turn(all_units[i], all_units, goblins, elves, game_map)\n",
    "            \n",
    "            if index > i or index == -1:\n",
    "                i+=1\n",
    "            if(elves==[] or goblins ==[]):\n",
    "                if i == len(all_units): round_number+=1\n",
    "                return get_solution(all_units, round_number)\n",
    "        round_number+=1\n",
    "        \n",
    "        if(print_m): print_track(game_map, round_number)  # print map"
   ]
  },
  {
   "cell_type": "code",
   "execution_count": 2,
   "metadata": {},
   "outputs": [
    {
     "ename": "NameError",
     "evalue": "name 'examples' is not defined",
     "output_type": "error",
     "traceback": [
      "\u001b[0;31m---------------------------------------------------------------------------\u001b[0m",
      "\u001b[0;31mNameError\u001b[0m                                 Traceback (most recent call last)",
      "\u001b[0;32m<timed exec>\u001b[0m in \u001b[0;36m<module>\u001b[0;34m\u001b[0m\n",
      "\u001b[0;31mNameError\u001b[0m: name 'examples' is not defined"
     ]
    }
   ],
   "source": [
    "%%time\n",
    "\n",
    "# TEST ALL EXAMPLES\n",
    "for i in range(len(examples)-2):\n",
    "    game_map, walls, elves, goblins, all_units = set_up_game(examples[i][0])\n",
    "    solution = play_game(all_units, goblins, elves, game_map, False)\n",
    "    assert(solution == examples[i][1])\n",
    "\n",
    "# GET SOLUTION\n",
    "game_map, walls, elves, goblins, all_units = set_up_game(get_level_input(15).splitlines())\n",
    "solution = play_game(all_units, goblins, elves, game_map, False)\n",
    "print_result(solution)"
   ]
  },
  {
   "cell_type": "code",
   "execution_count": 131,
   "metadata": {},
   "outputs": [],
   "source": [
    "## part two"
   ]
  },
  {
   "cell_type": "code",
   "execution_count": 147,
   "metadata": {},
   "outputs": [],
   "source": [
    "def advanced_add_units(unit_locs, unit_type, main_game_map, units, power_level):\n",
    "    for unit_loc in unit_locs:\n",
    "        if unit_type == 'E':\n",
    "            unit = Unit(loc=unit_loc, u_type=unit_type, attack=power_level)\n",
    "        else:\n",
    "            unit = Unit(loc=unit_loc, u_type=unit_type)\n",
    "        units.append(unit)\n",
    "        main_game_map[tuple(unit_loc)] = '.'\n",
    "\n",
    "def set_up_advanced_game(raw_map, power_level):\n",
    "    main_game_map = np.array([list(row) for row in raw_map])\n",
    "    main_elves = []\n",
    "    main_goblins = []\n",
    "    walls = np.where(main_game_map == WALL)\n",
    "    if(len(walls[0])):\n",
    "        walls = set(zip(walls[0], walls[1]))\n",
    "    for unit_type in UNIT_TYPES:\n",
    "        unit_locs = np.where(main_game_map == unit_type)\n",
    "        if(len(unit_locs[0])):\n",
    "            unit_locs = list(zip(unit_locs[0], unit_locs[1]))\n",
    "            advanced_add_units(unit_locs, unit_type, main_game_map, main_elves if unit_type=='E' else main_goblins, power_level)\n",
    "    return main_game_map, walls, main_elves, main_goblins, main_elves+main_goblins\n",
    "\n",
    "def play_advanced_game(all_units, goblins, elves, game_map, print_m = False):\n",
    "    all_units.sort(key = lambda x: x.loc)\n",
    "    round_number = 0\n",
    "    \n",
    "    if(print_m): print_track(game_map, round_number) # print map\n",
    "\n",
    "    while elves and goblins:\n",
    "        all_units.sort(key = lambda x: x.loc) \n",
    "        i=0\n",
    "        while i<len(all_units):\n",
    "            current_side = all_units[i].u_type\n",
    "            index = unit_turn(all_units[i], all_units, goblins, elves, game_map)\n",
    "            if(index>=0 and current_side =='G'):\n",
    "                return(\"ELF KILLED\")\n",
    "            if index > i or index == -1:\n",
    "                i+=1\n",
    "            if(elves==[] or goblins ==[]):\n",
    "                if i == len(all_units): round_number+=1\n",
    "                return get_solution(all_units, round_number)\n",
    "        round_number+=1\n",
    "        \n",
    "        if(print_m): print_track(game_map, round_number)  # print map"
   ]
  },
  {
   "cell_type": "code",
   "execution_count": 152,
   "metadata": {},
   "outputs": [
    {
     "name": "stdout",
     "output_type": "stream",
     "text": [
      "'RESULT: 48*1241=59568'\n",
      "\n",
      "'TIME............................................................'\n"
     ]
    }
   ],
   "source": [
    "for power_level in range(3, 25):\n",
    "    game_map, walls, elves, goblins, all_units = set_up_advanced_game(get_level_input(15).splitlines(), power_level)\n",
    "    solution = play_advanced_game(all_units, goblins, elves, game_map, False)\n",
    "    if(solution!=\"ELF KILLED\"):\n",
    "        print_result(solution)\n",
    "        break"
   ]
  },
  {
   "cell_type": "markdown",
   "metadata": {},
   "source": [
    "# LEVEL 16"
   ]
  },
  {
   "cell_type": "markdown",
   "metadata": {},
   "source": [
    "## setup"
   ]
  },
  {
   "cell_type": "markdown",
   "metadata": {},
   "source": [
    "Define Instruction dataclass and extract sample instructions into instruction array"
   ]
  },
  {
   "cell_type": "code",
   "execution_count": null,
   "metadata": {},
   "outputs": [],
   "source": [
    "@dataclass\n",
    "class Instruction:\n",
    "    before: list\n",
    "    after: list \n",
    "    operation: list\n",
    "\n",
    "INSTRUCTION_LINE_COUNT = 4\n",
    "sample_instructions_raw = get_level_input(\"16-1\").splitlines()\n",
    "sample_instructions = []\n",
    "for i in range(0, len(sample_instructions_raw), INSTRUCTION_LINE_COUNT):\n",
    "    sample_instructions.append(\n",
    "        Instruction(\n",
    "            before = list(map(int, sample_instructions_raw[i].split(\": \")[1][1:-1].split(', '))),\n",
    "            operation = list(map(int, sample_instructions_raw[i+1].split(\" \"))),\n",
    "            after = list(map(int, sample_instructions_raw[i+2].split(\":  \")[1][1:-1].split(', ')))\n",
    "        )\n",
    "    )\n",
    "\n",
    "def print_info(func):\n",
    "    def wrapper(*func_args, **func_kwargs):\n",
    "        print(func.__name__)\n",
    "        print(*func_args)\n",
    "        print(func(*func_args,**func_kwargs))\n",
    "    return wrapper"
   ]
  },
  {
   "cell_type": "markdown",
   "metadata": {},
   "source": [
    "Define functions"
   ]
  },
  {
   "cell_type": "code",
   "execution_count": 335,
   "metadata": {},
   "outputs": [],
   "source": [
    "#additions\n",
    "def addr(before, operation):\n",
    "    output=before[:]\n",
    "    output[operation[-1]] = before[operation[1]]+before[operation[2]]\n",
    "    return output\n",
    "\n",
    "def addi(before, operation):\n",
    "    output=before[:]\n",
    "    output[operation[-1]] = before[operation[1]]+operation[2]\n",
    "    return output\n",
    "\n",
    "# multiplications\n",
    "def mulr(before, operation):\n",
    "    output=before[:]\n",
    "    output[operation[-1]] = before[operation[1]]*before[operation[2]]\n",
    "    return output\n",
    "\n",
    "def muli(before, operation):\n",
    "    output=before[:]\n",
    "    output[operation[-1]] = before[operation[1]]*operation[2]\n",
    "    return output\n",
    "\n",
    "# bitwise and\n",
    "def banr(before, operation):\n",
    "    output=before[:]\n",
    "    output[operation[-1]] = before[operation[1]]&before[operation[2]]\n",
    "    return output \n",
    "\n",
    "def bani(before, operation):\n",
    "    output=before[:]\n",
    "    output[operation[-1]] = before[operation[1]]&operation[2]\n",
    "    return output    \n",
    "\n",
    "# bitwise or\n",
    "def borr(before, operation):\n",
    "    output=before[:]\n",
    "    output[operation[-1]] = before[operation[1]]|before[operation[2]]\n",
    "    return output\n",
    "\n",
    "def bori(before, operation):\n",
    "    output=before[:]\n",
    "    output[operation[-1]] = before[operation[1]]|operation[2]\n",
    "    return output\n",
    "\n",
    "# assignment\n",
    "def setr(before, operation):\n",
    "    output=before[:]\n",
    "    output[operation[-1]] = before[operation[1]]\n",
    "    return output   \n",
    "\n",
    "def seti(before, operation):\n",
    "    output=before[:]\n",
    "    output[operation[-1]] = operation[1]\n",
    "    return output\n",
    "\n",
    "# greater than\n",
    "def gtir(before, operation):\n",
    "    output=before[:]\n",
    "    output[operation[-1]] = 1 if operation[1]>before[operation[2]] else 0\n",
    "    return output\n",
    "\n",
    "def gtri(before, operation):\n",
    "    output=before[:]\n",
    "    output[operation[-1]] = 1 if before[operation[1]]>operation[2] else 0\n",
    "    return output\n",
    "\n",
    "def gtrr(before, operation):\n",
    "    output=before[:]\n",
    "    output[operation[-1]] = 1 if before[operation[1]]>before[operation[2]] else 0\n",
    "    return output\n",
    "\n",
    "# equality\n",
    "def eqir(before, operation):\n",
    "    output=before[:]\n",
    "    output[operation[-1]] = 1 if operation[1]==before[operation[2]] else 0\n",
    "    return output\n",
    "\n",
    "def eqri(before, operation):\n",
    "    output=before[:]\n",
    "    output[operation[-1]] = 1 if before[operation[1]]==operation[2] else 0\n",
    "    return output\n",
    "\n",
    "def eqrr(before, operation):\n",
    "    output=before[:]\n",
    "    output[operation[-1]] = 1 if before[operation[1]]==before[operation[2]] else 0\n",
    "    return output"
   ]
  },
  {
   "cell_type": "markdown",
   "metadata": {},
   "source": [
    "## part one"
   ]
  },
  {
   "cell_type": "code",
   "execution_count": 336,
   "metadata": {},
   "outputs": [
    {
     "name": "stdout",
     "output_type": "stream",
     "text": [
      "'RESULT: 500'\n",
      "\n",
      "'TIME............................................................'\n",
      "CPU times: user 11.4 ms, sys: 741 µs, total: 12.1 ms\n",
      "Wall time: 11.5 ms\n"
     ]
    }
   ],
   "source": [
    "%%time\n",
    "functions = [addr, addi, mulr, muli, banr, bani, borr, bori, setr, seti, gtir, gtri, gtrr, eqir, eqri, eqrr]\n",
    "over_three = 0\n",
    "\n",
    "#for sample_instruction in sample_instructions:\n",
    "functions = [addr, addi, mulr, muli, banr, bani, borr, bori, setr, seti, gtir, gtri, gtrr, eqir, eqri, eqrr]\n",
    "over_three = 0\n",
    "for sample_instruction in sample_instructions:\n",
    "    num_ops_matched = sum([1 if function(sample_instruction.before, sample_instruction.operation)==sample_instruction.after else 0 for function in functions])\n",
    "    if(num_ops_matched >=3): over_three+=1\n",
    "print_result(over_three)"
   ]
  },
  {
   "cell_type": "markdown",
   "metadata": {},
   "source": [
    "## part two"
   ]
  },
  {
   "cell_type": "code",
   "execution_count": 338,
   "metadata": {},
   "outputs": [],
   "source": [
    "# CREATE DICTIONARY OP-> FUNCTION\n",
    "functions = [addr, addi, seti, mulr, muli, banr, bani, borr, bori, setr, gtir, gtri, gtrr, eqir, eqri, eqrr]\n",
    "\n",
    "function_names = {i: function.__name__ for i, function in enumerate(functions)}\n",
    "over_three = 0\n",
    "\n",
    "samples = np.array([[0]*16 for i in range(16)])\n",
    "#for sample_instruction in sample_instructions:\n",
    "for sample_instruction in sample_instructions:\n",
    "    samples[sample_instruction.operation[0]]+=[0 if function(sample_instruction.before, sample_instruction.operation)==sample_instruction.after else -1 for function in functions]\n",
    "samples = list(samples)\n",
    "samples = np.array(samples)\n",
    "\n",
    "num_to_func={}\n",
    "while(len(num_to_func.keys())<16):\n",
    "    for row_num, row in enumerate(samples):\n",
    "        if(list(row).count(0))==1:\n",
    "            col = list(row).index(0)\n",
    "            num_to_func[row_num] = functions[col]\n",
    "            samples[:,col] = -1"
   ]
  },
  {
   "cell_type": "code",
   "execution_count": 9,
   "metadata": {},
   "outputs": [
    {
     "ename": "NameError",
     "evalue": "name 'num_to_func' is not defined",
     "output_type": "error",
     "traceback": [
      "\u001b[0;31m---------------------------------------------------------------------------\u001b[0m",
      "\u001b[0;31mNameError\u001b[0m                                 Traceback (most recent call last)",
      "\u001b[0;32m<timed exec>\u001b[0m in \u001b[0;36m<module>\u001b[0;34m\u001b[0m\n",
      "\u001b[0;31mNameError\u001b[0m: name 'num_to_func' is not defined"
     ]
    }
   ],
   "source": [
    "%%time\n",
    "program = get_level_input(\"16-2\").splitlines()\n",
    "program = [list(map(int, line.split(\" \"))) for line in program]\n",
    "before = [0, 0, 0, 0]\n",
    "\n",
    "for line in program:\n",
    "    before = num_to_func[line[0]](before, line)\n",
    "print_result(before[0])"
   ]
  },
  {
   "cell_type": "markdown",
   "metadata": {},
   "source": [
    "# LEVEL 17"
   ]
  },
  {
   "cell_type": "markdown",
   "metadata": {},
   "source": [
    "## setup"
   ]
  },
  {
   "cell_type": "code",
   "execution_count": 26,
   "metadata": {
    "scrolled": true
   },
   "outputs": [
    {
     "name": "stdout",
     "output_type": "stream",
     "text": [
      "7\n",
      "1730\n"
     ]
    }
   ],
   "source": [
    "X = 1\n",
    "Y = 0\n",
    "\n",
    "clay_blocks = get_level_input(\"17\").splitlines()\n",
    "running_water_points= set()\n",
    "first_drop = (0,500)\n",
    "\n",
    "# clay_blocks = \"\"\"x=0, y=2..7\n",
    "# y=7, x=0..6\n",
    "# x=6, y=3..7\n",
    "# x=3, y=2..4\n",
    "# x=11, y=1..2\n",
    "# x=3, y=10..13\n",
    "# x=9, y=10..13\n",
    "# y=13, x=3..9\n",
    "# \"\"\".splitlines()\n",
    "# running_water_points = [(0,5)]\n",
    "\n",
    "settled_water = set()\n",
    "clay = set()\n",
    "\n",
    "for block in clay_blocks:\n",
    "    matchx = list(map(int, re.search('x=(.*?|\\.*?)(?:,|$)', block)[1].split(\"..\")))\n",
    "    matchy = list(map(int, re.search('y=(.*?|\\.*?)(?:,|$)', block)[1].split(\"..\")))\n",
    "    if(len(matchx)>1):\n",
    "        x1, x2 = matchx\n",
    "        clay = clay|set([(matchy[0], x) for x in range(x1, x2+1)])\n",
    "    else:\n",
    "        y1, y2 = matchy\n",
    "        clay = clay|set([(y, matchx[0]) for y in range(y1, y2+1)])\n",
    "MAX_DEPTH= max([point[Y]for point in list(clay)])\n",
    "MIN_DEPTH = min([point[Y]for point in list(clay)])\n",
    "MAX_WIDTH = max([point[X] for point in list(clay)])\n",
    "\n",
    "def print_ground():\n",
    "    ground = np.full((MAX_DEPTH+2, 375), '.')\n",
    "    for point in clay:\n",
    "        if(275<point[X]<650 and 0<point[Y]<MAX_DEPTH+2):\n",
    "            ground[point[Y], point[X]-275] = '#'\n",
    "    for water in running_water_points:\n",
    "        if(275<water[X]<650 and 0<water[Y]<MAX_DEPTH+2):\n",
    "            ground[water[Y], water[X]-275] = '|'\n",
    "    for settled in settled_water:\n",
    "        if(275<settled[X]<650 and 0<settled[Y]<MAX_DEPTH+2):\n",
    "            ground[settled[Y], settled[X]-275] = '~'\n",
    "    for line in list(ground):\n",
    "        line = list(line)\n",
    "        print(\"\".join(line))\n",
    "    print(\"\\n\")\n",
    "    \n",
    "# def print_ground():\n",
    "#     ground = np.full((MAX_DEPTH+1, MAX_WIDTH+2), '.')\n",
    "#     for point in clay:\n",
    "#         ground[point[Y], point[X]] = '#'\n",
    "#     for water in running_water_points:\n",
    "#         ground[water[Y], water[X]] = '|'\n",
    "#     for settled in settled_water:\n",
    "#         ground[settled[Y], settled[X]] = '~'\n",
    "#     for line in list(ground):\n",
    "#         line = list(line)\n",
    "#         print(\"\".join(line))\n",
    "#     print(\"\\n\")\n"
   ]
  },
  {
   "cell_type": "markdown",
   "metadata": {},
   "source": [
    "## part one"
   ]
  },
  {
   "cell_type": "markdown",
   "metadata": {},
   "source": [
    "### Recursive Strategy: works but is obscenely slow"
   ]
  },
  {
   "cell_type": "code",
   "execution_count": 15,
   "metadata": {},
   "outputs": [],
   "source": [
    "# %%time\n",
    "\n",
    "# def waterfall(first_drop, settled_water, clay, running_water_points):\n",
    "#     i=1\n",
    "#     if((first_drop[Y], first_drop[X]) in set(running_water_points)): return\n",
    "#     running_water_points.append((first_drop[Y], first_drop[X]))\n",
    "\n",
    "#     while((first_drop[Y]+i, first_drop[X]) not in clay | set(settled_water)):\n",
    "#         if((first_drop[Y]+i, first_drop[X]) in set(running_water_points)): return\n",
    "#         running_water_points.append((first_drop[Y]+i, first_drop[X]))\n",
    "#         i+=1\n",
    "#         if(i+first_drop[Y]>MAX_DEPTH and (first_drop[Y]+i, first_drop[X]) not in clay): return\n",
    "\n",
    "#     right_side = True\n",
    "#     left_side = True\n",
    "#     while(right_side and left_side):\n",
    "#         left_shift = 1\n",
    "#         last_drop = running_water_points[-1]\n",
    "#         left_side = True\n",
    "#         right_shift = 1\n",
    "#         right_side = True\n",
    "#         while((last_drop[Y], last_drop[X]-left_shift) not in clay):\n",
    "#             if(last_drop[Y], last_drop[X]-left_shift) in set(running_water_points): break\n",
    "#             if((last_drop[Y]+1, last_drop[X]-left_shift) not in clay|set(settled_water)):\n",
    "#                 waterfall((last_drop[Y], last_drop[X]-left_shift), settled_water, clay, running_water_points)\n",
    "#                 left_side = False\n",
    "#                 break\n",
    "#             running_water_points.append((last_drop[Y], last_drop[X]-left_shift))\n",
    "#             left_shift+=1\n",
    "\n",
    "#         while((last_drop[Y], last_drop[X]+right_shift) not in clay):\n",
    "# #             if (last_drop[Y], last_drop[X]+right_shift) in set(running_water_points): break\n",
    "#             if((last_drop[Y]+1, last_drop[X]+right_shift) not in clay|set(settled_water)):\n",
    "#                 waterfall((last_drop[Y], last_drop[X]+right_shift), settled_water, clay, running_water_points)\n",
    "#                 right_side = False\n",
    "#                 break\n",
    "#             running_water_points.append((last_drop[Y], last_drop[X]+right_shift))\n",
    "#             right_shift+=1\n",
    "\n",
    "#         if(right_side and left_side):\n",
    "#             settled_water += [(last_drop[Y], x) for x in range(last_drop[X]-left_shift+1, last_drop[X]+right_shift)] \n",
    "#             del running_water_points[-(left_shift+right_shift-1):]\n",
    "            \n",
    "# waterfall(first_drop, settled_water, clay, running_water_points)\n",
    "\n",
    "# #print_ground()\n",
    "# print_result(len(set(settled_water)|set(running_water_points))-1)"
   ]
  },
  {
   "cell_type": "markdown",
   "metadata": {},
   "source": [
    "### Iterative Strategy: works but is also quite slow"
   ]
  },
  {
   "cell_type": "code",
   "execution_count": 27,
   "metadata": {},
   "outputs": [
    {
     "name": "stdout",
     "output_type": "stream",
     "text": [
      "'RESULT: 39557'\n",
      "\n",
      "'TIME............................................................'\n",
      "CPU times: user 1min 3s, sys: 407 ms, total: 1min 3s\n",
      "Wall time: 1min 4s\n"
     ]
    }
   ],
   "source": [
    "%%time\n",
    "running_water = deque([(0,500)])\n",
    "\n",
    "def waterfall(running_water, clay):\n",
    "    global running_water_points\n",
    "    global settled_water\n",
    "    while(running_water):\n",
    "\n",
    "        first_drop = running_water.popleft()\n",
    "        if(first_drop in running_water_points): continue\n",
    "        running_water_points.add(first_drop)\n",
    "        i=1\n",
    "        restart = False\n",
    "        while((first_drop[Y]+i, first_drop[X]) not in clay | settled_water):\n",
    "            if((first_drop[Y]+i, first_drop[X]) in running_water_points):\n",
    "                restart = True\n",
    "                break\n",
    "            running_water_points.add((first_drop[Y]+i, first_drop[X]))\n",
    "            last_drop = (first_drop[Y]+i, first_drop[X])\n",
    "            i+=1\n",
    "            if(i+first_drop[Y]>MAX_DEPTH and (first_drop[Y]+i, first_drop[X]) not in clay):\n",
    "                restart = True\n",
    "                break\n",
    "        if(restart): continue\n",
    "        right_side = True\n",
    "        left_side = True\n",
    "\n",
    "        while(right_side and left_side):\n",
    "            left_shift = 1\n",
    "            left_side = True\n",
    "            right_shift = 1\n",
    "            right_side = True\n",
    "            while((last_drop[Y], last_drop[X]-left_shift) not in clay):\n",
    "                # if(last_drop[Y]+1, last_drop[X]-left_shift) in set(running_water_points): break\n",
    "                if((last_drop[Y]+1, last_drop[X]-left_shift) not in clay|settled_water):\n",
    "                    running_water.append((last_drop[Y], last_drop[X]-left_shift))\n",
    "                    left_side = False\n",
    "                    break\n",
    "                running_water_points.add((last_drop[Y], last_drop[X]-left_shift))\n",
    "\n",
    "                left_shift+=1\n",
    "\n",
    "            while((last_drop[Y], last_drop[X]+right_shift) not in clay):\n",
    "                # if (last_drop[Y]+1, last_drop[X]+right_shift) in set(running_water_points): break\n",
    "                if((last_drop[Y]+1, last_drop[X]+right_shift) not in clay|settled_water):\n",
    "                    running_water.append((last_drop[Y], last_drop[X]+right_shift))\n",
    "                    right_side = False\n",
    "                    break\n",
    "                running_water_points.add((last_drop[Y], last_drop[X]+right_shift))\n",
    "                right_shift+=1\n",
    "                \n",
    "            if(right_side and left_side):\n",
    "                settled_water = settled_water | set([(last_drop[Y], x) for x in range(last_drop[X]-left_shift+1, last_drop[X]+right_shift)])\n",
    "                last_drop =  (last_drop[Y]-1, last_drop[X])\n",
    "                running_water_points.add(last_drop)\n",
    "                if((last_drop[Y], last_drop[X]+1) not in running_water_points or (last_drop[Y], last_drop[X]-1) not in running_water_points): continue\n",
    "                running_water_points = running_water_points - settled_water\n",
    " \n",
    "waterfall(running_water, clay)\n",
    "\n",
    "running_water_points = set(filter(lambda x: x[Y]>=MIN_DEPTH, running_water_points))\n",
    "settled_water = set(filter(lambda x: x[Y]>=MIN_DEPTH, settled_water))\n",
    "\n",
    "print_result(len(running_water_points|settled_water))"
   ]
  },
  {
   "cell_type": "markdown",
   "metadata": {},
   "source": [
    "## part two"
   ]
  },
  {
   "cell_type": "code",
   "execution_count": 25,
   "metadata": {},
   "outputs": [
    {
     "name": "stdout",
     "output_type": "stream",
     "text": [
      "'RESULT: 32984'\n",
      "\n",
      "'TIME............................................................'\n"
     ]
    }
   ],
   "source": [
    "print_result(len(settled_water))"
   ]
  },
  {
   "cell_type": "markdown",
   "metadata": {},
   "source": [
    "# LEVEL 18"
   ]
  },
  {
   "cell_type": "markdown",
   "metadata": {},
   "source": [
    "## setup"
   ]
  },
  {
   "cell_type": "code",
   "execution_count": 208,
   "metadata": {},
   "outputs": [],
   "source": [
    "level_map  = get_level_input(18).splitlines()\n",
    "# level_map = \"\"\".#.#...|#.\n",
    "# .....#|##|\n",
    "# .|..|...#.\n",
    "# ..|#.....#\n",
    "# #.#|||#|#|\n",
    "# ...#.||...\n",
    "# .|....|...\n",
    "# ||...#|.#|\n",
    "# |.||||..|.\n",
    "# ...#.|..|.\"\"\".splitlines()\n",
    "\n",
    "countryside = np.array([list(x) for x in level_map])\n",
    "\n",
    "Y = 0\n",
    "X = 1\n",
    "\n",
    "TREE = '|'\n",
    "LUMBERY = '#'\n",
    "OPEN = '.'\n",
    "\n",
    "MAX_X = countryside.shape[X]\n",
    "MAX_Y = countryside.shape[Y]\n",
    "\n",
    "\n",
    "def get_feature_set(u_type, u_map):\n",
    "    u_locs = np.where(u_map == u_type)\n",
    "    if(len(u_locs[0])):\n",
    "        u_set = set(zip(u_locs[0], u_locs[1]))\n",
    "    return u_set\n",
    "\n",
    "def get_feature_sets(u_map):\n",
    "    trees = get_feature_set(TREE, u_map)\n",
    "    lumberyards = get_feature_set(LUMBERY, u_map)\n",
    "    open_spaces = get_feature_set(OPEN, u_map)\n",
    "    return trees, lumberyards, open_spaces\n",
    "\n",
    "NUM_MINUTES = 10\n",
    "\n",
    "def get_adjacent_squares(point):\n",
    "    adjacent_squares = set()\n",
    "    for i in [-1,0, 1]:\n",
    "        for j in [-1,0, 1]:\n",
    "             if(point[Y]+i<=MAX_Y and point[Y]+i>=0 and point[X]+j<=MAX_X and point[X]+j>=0):\n",
    "                    adjacent_squares.add((point[Y]+i, point[X]+j))\n",
    "    return adjacent_squares-{point}\n",
    "\n",
    "\n",
    "def print_c(u_map):\n",
    "    for line in u_map.tolist():    \n",
    "        print(\"\".join(line))\n",
    "    print()"
   ]
  },
  {
   "cell_type": "markdown",
   "metadata": {},
   "source": [
    "## part one"
   ]
  },
  {
   "cell_type": "code",
   "execution_count": 210,
   "metadata": {},
   "outputs": [
    {
     "name": "stdout",
     "output_type": "stream",
     "text": [
      ".#...#..|.#||.|.......##.|#|.....#|...#.|.....#.|.\n",
      "|..|.#.|.#....#.|..#..|#....#|#.|||.....|...#....#\n",
      "|..|..|.||.....#..#||..#..#..|.#.|..|..||...|#...#\n",
      "..##|.||.|.#.###.....#....#...#.|.|..||||.....|.|.\n",
      ".....#.......|..|#.|...|.|#..........#|.|..|.||.##\n",
      ".#|....|..|..#.#|.|..||#...|....##||..|.||....#.#.\n",
      "|##......#.#..|.|..##|#...|...|.##|...|#...|...##|\n",
      "...|...|||.#|..|#.#....#|....|..||..|...|#|..#|.|.\n",
      "|.|##....#.|.|.#..#...##.#......#.#.|......|...|||\n",
      "..#.||..#.....#.|##..#..|##...|#|..|##|..|.|#..##.\n",
      "..||#...#..|...|#.#....#...#...|#.||.|.##|.#....#|\n",
      ".#...#.#|#|.#....#..|....|.|...|.|.#...#.||....|..\n",
      ".#...........##.#...#..||...#...|###...|...#.|.#..\n",
      "....|.|...##|#...#..#|#......##....#...|.#.....|#|\n",
      ".##..#.#.##.....#......|....#...|.#.#......#...##.\n",
      "...#.#..|#|#..#.....||.##|#....|.#.|...#||#.|#...|\n",
      ".#..##||.#|....|.||.||...|..|....|#..#|..##.#|.|.#\n",
      ".#.||.|##.|..|..#..|#|..###.||#........||#|.||##|.\n",
      ".|.##|.#....#.#..|..|...#...|.#.|......|##..#.....\n",
      "..||...|.|##.||..|.|...|#..|.........#.|.#.....|##\n",
      "#..|..|#.......#.||#.|#..|#|#.##.|||....#.#...|..|\n",
      "|..|#|...||..|..||...#......##..|.|#..##....#.##.|\n",
      "#|.#...|..|.....||.|###..#|.|..#.|..|||.#.#....|..\n",
      "..#.||....##|.##.#.##..#||......#.#.....|.....#...\n",
      "#.#...||..|..|#...|#..||#.|..|..|..||.|.#...|...#.\n",
      "..|.#.#.|.#|#...#.||.|#|#..#..#.#|....##||#..|.|.#\n",
      ".#...|....#...|.||#.|.#...|.......#..|.#........|.\n",
      "..|.#|#||#....|..|#.#...#....#..|.|.|..||#|..##...\n",
      "......|........|......||................|...##..#.\n",
      "#|.......|.|.|.|..####..#.|#....|..|#|#....#....|.\n",
      "||.||#.||#....|.#..#.....|..#.|#.|.|...|....####..\n",
      "..........#|..|||..#|..|..|||##|#||#|....||.|...||\n",
      "....|....#.|......#|....###....|.##|.#||||||..#.|#\n",
      ".|#|.#.##||......#.#.||.|.##...|.|.|#........#.#|.\n",
      ".......|...|..|.|.....|.#|.|.#...#...#|...#.||...#\n",
      ".||.#..|.##.#..##...#....|...|#..##|.|.#..|#|#|..|\n",
      ".#..|.|##|....#|###.....|...||.|.|||......#|....|.\n",
      ".|#.#.....|.##.##.|........|...|...|||....#....##.\n",
      "...##|||.|##|.|..#......#.......|##|.|..|.......|.\n",
      "...#.....#|.#.||.....|....#.#|......##.....##..|#|\n",
      "..|.|...|....#|....###.|##..........|#..#|.#|..|#.\n",
      "..|..#.|.....|...|...#|.||#|..#.#..#.#|..|........\n",
      "..|..||.#.......|##|..|..|..|..##|.|...#.#..|.....\n",
      "#.#..#.|###...#...||.#..#|...|.##...|..#|.......|.\n",
      "..##.|..#|...#...|..#.|..|#.|.....#..#.#..#|#|...#\n",
      "#......|..|.#.|.|...........#......||..#.||..#....\n",
      "...#|......#.#|.....#....|..|......|.#.#.|.|......\n",
      "#|.##...#.##..|#..|...#.....#|.#.............|..|#\n",
      ".....|.|..|.||.#|.||##...#|.##|#.....#..#..#|.#...\n",
      "..|..|.#.....#.##|.##|.||..#..#|#.||..||#.###..||.\n",
      "\n",
      "'RESULT: 531417'\n",
      "\n",
      "'TIME............................................................'\n",
      "CPU times: user 273 ms, sys: 7.29 ms, total: 280 ms\n",
      "Wall time: 281 ms\n"
     ]
    }
   ],
   "source": [
    "%%time\n",
    "\n",
    "def get_new_feature(point, point_type, trees, lumberyards, open_spaces):\n",
    "    adjacent_squares = get_adjacent_squares(point)\n",
    "    new_feature = {\n",
    "        '.': lambda adjacent_squares: TREE if len(adjacent_squares & trees)>=3 else OPEN,\n",
    "        '|': lambda adjacent_squares: LUMBERY if len(adjacent_squares & lumberyards)>=3 else TREE,\n",
    "        '#': lambda adjacent_squares: LUMBERY if len(adjacent_squares & lumberyards)>=1 and len(adjacent_squares & trees)>=1 else OPEN\n",
    "    }[point_type](adjacent_squares)\n",
    "    return new_feature\n",
    "\n",
    "def timelapse_countryside(old_countryside, new_countryside, num_minutes, trees, lumberyards, open_spaces):\n",
    "    for minute in range(num_minutes):\n",
    "        for y in range(0, MAX_Y):\n",
    "            for x in range(0, MAX_X):\n",
    "                current_point = (y, x)\n",
    "                new_countryside[current_point] = get_new_feature(current_point, old_countryside[current_point], trees, lumberyards, open_spaces)\n",
    "        # print_c(new_countryside)    \n",
    "        old_countryside = new_countryside\n",
    "        new_countryside = deepcopy(old_countryside)\n",
    "        trees, lumberyards, open_spaces = get_feature_sets(old_countryside)\n",
    "\n",
    "    print_result(len(trees)*len(lumberyards))\n",
    "    return new_countryside  \n",
    "\n",
    "old_countryside = deepcopy(countryside)\n",
    "new_countryside = deepcopy(countryside)\n",
    "\n",
    "trees, lumberyards, open_spaces = get_feature_sets(old_countryside)\n",
    "print_c(new_countryside)\n",
    "new_countryside = timelapse_countryside(old_countryside, new_countryside, NUM_MINUTES, trees, lumberyards, open_spaces)\n",
    "        "
   ]
  },
  {
   "cell_type": "markdown",
   "metadata": {},
   "source": [
    "## part two"
   ]
  },
  {
   "cell_type": "code",
   "execution_count": 200,
   "metadata": {},
   "outputs": [
    {
     "name": "stdout",
     "output_type": "stream",
     "text": [
      "CPU times: user 23.3 s, sys: 107 ms, total: 23.4 s\n",
      "Wall time: 23.8 s\n"
     ]
    }
   ],
   "source": [
    "%%time\n",
    "\n",
    "# Run and record value for 1000 minutes\n",
    "\n",
    "NUM_MINUTES = 1000\n",
    "value_over_time = []\n",
    "def get_new_feature(point, point_type, trees, lumberyards, open_spaces):\n",
    "    adjacent_squares = get_adjacent_squares(point)\n",
    "    new_feature = {\n",
    "        '.': lambda adjacent_squares: TREE if len(adjacent_squares & trees)>=3 else OPEN,\n",
    "        '|': lambda adjacent_squares: LUMBERY if len(adjacent_squares & lumberyards)>=3 else TREE,\n",
    "        '#': lambda adjacent_squares: LUMBERY if len(adjacent_squares & lumberyards)>=1 and len(adjacent_squares & trees)>=1 else OPEN\n",
    "    }[point_type](adjacent_squares)\n",
    "    return new_feature\n",
    "\n",
    "def timelapse_countryside(old_countryside, new_countryside, num_minutes, trees, lumberyards, open_spaces):\n",
    "    global value_over_time\n",
    "    value_over_time.append(len(trees)*len(lumberyards))\n",
    "    for minute in range(num_minutes):\n",
    "        for y in range(0, MAX_Y):\n",
    "            for x in range(0, MAX_X):\n",
    "                current_point = (y, x)\n",
    "                new_countryside[current_point] = get_new_feature(current_point, old_countryside[current_point], trees, lumberyards, open_spaces)\n",
    "        old_countryside = new_countryside\n",
    "        new_countryside = deepcopy(old_countryside)\n",
    "        trees, lumberyards, open_spaces = get_feature_sets(old_countryside)\n",
    "\n",
    "        value_over_time.append(len(trees)*len(lumberyards))\n",
    "    return new_countryside  \n",
    "\n",
    "old_countryside = deepcopy(countryside)\n",
    "new_countryside = deepcopy(countryside)\n",
    "\n",
    "trees, lumberyards, open_spaces = get_feature_sets(old_countryside)\n",
    "new_countryside = timelapse_countryside(old_countryside, new_countryside, NUM_MINUTES, trees, lumberyards, open_spaces)"
   ]
  },
  {
   "cell_type": "code",
   "execution_count": 205,
   "metadata": {},
   "outputs": [
    {
     "data": {
      "text/plain": [
       "[<matplotlib.lines.Line2D at 0x117805750>]"
      ]
     },
     "execution_count": 205,
     "metadata": {},
     "output_type": "execute_result"
    },
    {
     "data": {
      "image/png": "[encoded data removed]",
      "text/plain": [
       "<Figure size 432x288 with 1 Axes>"
      ]
     },
     "metadata": {
      "needs_background": "light"
     },
     "output_type": "display_data"
    }
   ],
   "source": [
    "# plot values against minutes to discvoer stabilization trend\n",
    "\n",
    "import matplotlib.pyplot as plt\n",
    "plt.plot(value_over_time)"
   ]
  },
  {
   "cell_type": "code",
   "execution_count": 207,
   "metadata": {},
   "outputs": [
    {
     "name": "stdout",
     "output_type": "stream",
     "text": [
      "'RESULT: 205296'\n",
      "\n",
      "'TIME............................................................'\n",
      "CPU times: user 4.62 ms, sys: 181 µs, total: 4.8 ms\n",
      "Wall time: 4.68 ms\n"
     ]
    }
   ],
   "source": [
    "%%time\n",
    "# find state after long time\n",
    "\n",
    "STABILIZATION_POINT = 600\n",
    "values = deepcopy(value_over_time[STABILIZATION_POINT:])\n",
    "input_val =  1000000000\n",
    "\n",
    "y_shift = int((max(values)+min(values))/2)\n",
    "amplitude = ((max(values) - min(values))/2)\n",
    "indices = [i for i, x in enumerate(values) if x == int(min(values))]\n",
    "x_start = indices[0]\n",
    "period = indices[1]-indices[0]\n",
    "\n",
    "cycle = values[indices[0]:indices[1]]\n",
    "\n",
    "print_result(cycle[(input_val-STABILIZATION_POINT-x_start)%(len(cycle))])\n",
    "    "
   ]
  },
  {
   "cell_type": "markdown",
   "metadata": {},
   "source": [
    "# LEVEL 19"
   ]
  },
  {
   "cell_type": "markdown",
   "metadata": {},
   "source": [
    "## setup"
   ]
  },
  {
   "cell_type": "markdown",
   "metadata": {},
   "source": [
    "#### Define functions\n"
   ]
  },
  {
   "cell_type": "code",
   "execution_count": 67,
   "metadata": {},
   "outputs": [],
   "source": [
    "#additions\n",
    "\n",
    "A = 0\n",
    "B = 1\n",
    "def addr(before, operation):\n",
    "    output=before[:]\n",
    "    output[operation[-1]] = before[operation[A]]+before[operation[B]]\n",
    "    return output\n",
    "\n",
    "def addi(before, operation):\n",
    "    output=before[:]\n",
    "    output[operation[-1]] = before[operation[A]]+operation[B]\n",
    "    return output\n",
    "\n",
    "# multiplications\n",
    "def mulr(before, operation):\n",
    "    output=before[:]\n",
    "    output[operation[-1]] = before[operation[A]]*before[operation[B]]\n",
    "    return output\n",
    "\n",
    "def muli(before, operation):\n",
    "    output=before[:]\n",
    "    output[operation[-1]] = before[operation[A]]*operation[B]\n",
    "    return output\n",
    "\n",
    "# bitwise and\n",
    "def banr(before, operation):\n",
    "    output=before[:]\n",
    "    output[operation[-1]] = before[operation[A]]&before[operation[B]]\n",
    "    return output \n",
    "\n",
    "def bani(before, operation):\n",
    "    output=before[:]\n",
    "    output[operation[-1]] = before[operation[A]]&operation[B]\n",
    "    return output    \n",
    "\n",
    "# bitwise or\n",
    "def borr(before, operation):\n",
    "    output=before[:]\n",
    "    output[operation[-1]] = before[operation[A]]|before[operation[B]]\n",
    "    return output\n",
    "\n",
    "def bori(before, operation):\n",
    "    output=before[:]\n",
    "    output[operation[-1]] = before[operation[A]]|operation[B]\n",
    "    return output\n",
    "\n",
    "# assignment\n",
    "def setr(before, operation):\n",
    "    output=before[:]\n",
    "    output[operation[-1]] = before[operation[A]]\n",
    "    return output   \n",
    "\n",
    "def seti(before, operation):\n",
    "    output=before[:]\n",
    "    output[operation[-1]] = operation[A]\n",
    "    return output\n",
    "\n",
    "# greater than\n",
    "def gtir(before, operation):\n",
    "    output=before[:]\n",
    "    output[operation[-1]] = 1 if operation[A]>before[operation[B]] else 0\n",
    "    return output\n",
    "\n",
    "def gtri(before, operation):\n",
    "    output=before[:]\n",
    "    output[operation[-1]] = 1 if before[operation[A]]>operation[B] else 0\n",
    "    return output\n",
    "\n",
    "def gtrr(before, operation):\n",
    "    output=before[:]\n",
    "    output[operation[-1]] = 1 if before[operation[A]]>before[operation[B]] else 0\n",
    "    return output\n",
    "\n",
    "# equality\n",
    "def eqir(before, operation):\n",
    "    output=before[:]\n",
    "    output[operation[-1]] = 1 if operation[A]==before[operation[B]] else 0\n",
    "    return output\n",
    "\n",
    "def eqri(before, operation):\n",
    "    output=before[:]\n",
    "    output[operation[-1]] = 1 if before[operation[A]]==operation[B] else 0\n",
    "    return output\n",
    "\n",
    "def eqrr(before, operation):\n",
    "    output=before[:]\n",
    "    output[operation[-1]] = 1 if before[operation[A]]==before[operation[B]] else 0\n",
    "    return output"
   ]
  },
  {
   "cell_type": "markdown",
   "metadata": {},
   "source": [
    "#### Define Instruction dataclass and extract sample instructions into instruction array"
   ]
  },
  {
   "cell_type": "code",
   "execution_count": 85,
   "metadata": {},
   "outputs": [],
   "source": [
    "@dataclass\n",
    "class Instruction:\n",
    "    operation: str\n",
    "    value: list\n",
    "\n",
    "sample_instructions_raw = get_level_input(\"19\").splitlines()\n",
    "\n",
    "# sample_instructions_raw = \"\"\"#ip 0\n",
    "# seti 5 0 1\n",
    "# seti 6 0 2\n",
    "# addi 0 1 0\n",
    "# addr 1 2 3\n",
    "# setr 1 0 0\n",
    "# seti 8 0 4\n",
    "# seti 9 0 5\"\"\".splitlines()\n",
    "ip_i = int(sample_instructions_raw.pop(0)[4:])\n",
    "instructions =  []\n",
    "for ins in sample_instructions_raw:\n",
    "     ins = ins.split(\" \")\n",
    "     instructions.append(Instruction(operation = ins[0], value =[int(x) for x in ins[1:]]))\n",
    "                \n"
   ]
  },
  {
   "cell_type": "markdown",
   "metadata": {},
   "source": [
    "## part one"
   ]
  },
  {
   "cell_type": "code",
   "execution_count": 69,
   "metadata": {},
   "outputs": [
    {
     "name": "stdout",
     "output_type": "stream",
     "text": [
      "'RESULT: 1500'\n",
      "\n",
      "'TIME............................................................'\n",
      "CPU times: user 13.8 s, sys: 60.6 ms, total: 13.9 s\n",
      "Wall time: 14 s\n"
     ]
    }
   ],
   "source": [
    "%%time\n",
    "functions = [addr, addi, mulr, muli, banr, bani, borr, bori, setr, seti, gtir, gtri, gtrr, eqir, eqri, eqrr]\n",
    "\n",
    "functions = {x.__name__: x for x in functions}\n",
    "registers = [0]*6\n",
    "ip = 0\n",
    "while(True):\n",
    "    if(ip>len(instructions)-1): break\n",
    "    ins = instructions[ip]\n",
    "    registers[ip_i] = ip\n",
    "#     registers_p = deepcopy(registers)\n",
    "    registers = functions[ins.operation](registers, ins.value)\n",
    "    ip = registers[ip_i]\n",
    "    # print(f'ip={ip} {registers_p} {ins.operation} {\" \".join([str(i) for i in ins.value])} {registers}')\n",
    "    ip+=1\n",
    "        \n",
    "print_result(registers[0])"
   ]
  },
  {
   "cell_type": "markdown",
   "metadata": {},
   "source": [
    "## part two"
   ]
  },
  {
   "cell_type": "code",
   "execution_count": 97,
   "metadata": {},
   "outputs": [
    {
     "name": "stdout",
     "output_type": "stream",
     "text": [
      "36\n"
     ]
    },
    {
     "ename": "KeyboardInterrupt",
     "evalue": "",
     "output_type": "error",
     "traceback": [
      "\u001b[0;31m---------------------------------------------------------------------------\u001b[0m",
      "\u001b[0;31mKeyboardInterrupt\u001b[0m                         Traceback (most recent call last)",
      "\u001b[0;32m<timed exec>\u001b[0m in \u001b[0;36m<module>\u001b[0;34m\u001b[0m\n",
      "\u001b[0;31mKeyboardInterrupt\u001b[0m: "
     ]
    }
   ],
   "source": [
    "%%time\n",
    "functions = [addr, addi, mulr, muli, banr, bani, borr, bori, setr, seti, gtir, gtri, gtrr, eqir, eqri, eqrr]\n",
    "\n",
    "functions = {x.__name__: x for x in functions}\n",
    "\n",
    "registers =  [1, 0, 0, 0, 0, 0]\n",
    "\n",
    "registers = [0, 10551398, 10551398, 10551398, 1, 3]\n",
    "registers = [1, 10551398, 5275699, 10551398, 2, 3]\n",
    "registers = [3, 10551398, 10551398, 21102796, 2, 3] \n",
    "registers = [3, 10551398, 10551398, 31654194, 3, 3]\n",
    "registers = [3, 10551398, 10551398, 31654194, 3, 3]\n",
    "registers = [3, 10551398, 10551398, 42205592, 4, 3]\n",
    "registers = [3, 10551398, 959218, 10551398, 11, 3]\n",
    "\n",
    "program_state = []\n",
    "ip = 4\n",
    "print(len(instructions))\n",
    "while(True):\n",
    "    ip_c = ip\n",
    "    if(ip>len(instructions)-1): break\n",
    "    ins = instructions[ip]\n",
    "    registers[ip_i] = ip\n",
    "#     registers_p = deepcopy(registers)\n",
    "    registers = functions[ins.operation](registers, ins.value)\n",
    "    ip = registers[ip_i]\n",
    "    ip+=1\n",
    "    program_state.append(f'ip={ip_c} {ins.operation} {\" \".join([str(i) for i in ins.value])} {registers} ip_n ')\n",
    "        \n",
    "print_result(registers[0])"
   ]
  },
  {
   "cell_type": "code",
   "execution_count": 141,
   "metadata": {},
   "outputs": [
    {
     "name": "stdout",
     "output_type": "stream",
     "text": [
      "[1, 10551398, 2, 5275699, 11, 959218, 13, 811646, 22, 479609, 26, 405823, 79, 133562, 143, 73786, 158, 66781, 286, 36893, 467, 22594, 869, 12142, 934, 11297, 1027, 10274, 1738, 6071, 2054, 5137]\n",
      "'RESULT: 18869760'\n",
      "\n",
      "'TIME............................................................'\n"
     ]
    }
   ],
   "source": [
    "first_factors = list(filter(lambda x: 10551398%x==0, range(1, int(10551398**.5//1))))\n",
    "factors = sum([[int(x), 10551398//x] for x in first_factors],[])\n",
    "print(factors)\n",
    "print_result(sum(factors))\n"
   ]
  },
  {
   "cell_type": "code",
   "execution_count": 124,
   "metadata": {},
   "outputs": [
    {
     "data": {
      "text/plain": [
       "18869760"
      ]
     },
     "execution_count": 124,
     "metadata": {},
     "output_type": "execute_result"
    }
   ],
   "source": []
  },
  {
   "cell_type": "code",
   "execution_count": null,
   "metadata": {},
   "outputs": [],
   "source": []
  }
 ],
 "metadata": {
  "kernelspec": {
   "display_name": "Python 3",
   "language": "python",
   "name": "python3"
  },
  "language_info": {
   "codemirror_mode": {
    "name": "ipython",
    "version": 3
   },
   "file_extension": ".py",
   "mimetype": "text/x-python",
   "name": "python",
   "nbconvert_exporter": "python",
   "pygments_lexer": "ipython3",
   "version": "3.7.4"
  }
 },
 "nbformat": 4,
 "nbformat_minor": 4
}

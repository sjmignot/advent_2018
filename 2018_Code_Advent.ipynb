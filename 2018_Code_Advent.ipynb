{
 "cells": [
  {
   "cell_type": "markdown",
   "metadata": {},
   "source": [
    "# SETUP"
   ]
  },
  {
   "cell_type": "markdown",
   "metadata": {},
   "source": [
    "## imports"
   ]
  },
  {
   "cell_type": "code",
   "execution_count": 39,
   "metadata": {},
   "outputs": [],
   "source": [
    "import string\n",
    "import numpy as np\n",
    "from itertools import cycle\n",
    "import requests\n",
    "import collections\n",
    "from pprint import pprint\n",
    "import operator\n"
   ]
  },
  {
   "cell_type": "markdown",
   "metadata": {},
   "source": [
    "## constants"
   ]
  },
  {
   "cell_type": "code",
   "execution_count": 40,
   "metadata": {},
   "outputs": [],
   "source": [
    "lowercase=string.ascii_lowercase"
   ]
  },
  {
   "cell_type": "markdown",
   "metadata": {},
   "source": [
    "## helpers"
   ]
  },
  {
   "cell_type": "code",
   "execution_count": 41,
   "metadata": {
    "scrolled": true
   },
   "outputs": [],
   "source": [
    "def get_level_input(lvl_num):\n",
    "    with open('advent_inputs/%d.txt' %lvl_num) as f:\n",
    "        level_input=f.read()\n",
    "        return level_input[:-1]\n",
    "    \n",
    "def print_result(answer):\n",
    "    pprint(\"RESULT: \"+str(answer))\n",
    "    print()\n",
    "    pprint(\"TIME\"+\".\"*60)\n",
    "    \n",
    "class StopExecution(Exception):\n",
    "    def _render_traceback_(self):\n",
    "        pass"
   ]
  },
  {
   "cell_type": "markdown",
   "metadata": {},
   "source": [
    "# LEVEL 1"
   ]
  },
  {
   "cell_type": "markdown",
   "metadata": {},
   "source": [
    "## setup"
   ]
  },
  {
   "cell_type": "code",
   "execution_count": 42,
   "metadata": {},
   "outputs": [],
   "source": [
    "frequencies=get_level_input(1)\n",
    "frequencies=frequencies.splitlines()\n",
    "frequencies=[int(x[1:]) if x[0]=='+' else int(x) for x in frequencies]"
   ]
  },
  {
   "cell_type": "markdown",
   "metadata": {},
   "source": [
    "## part one"
   ]
  },
  {
   "cell_type": "code",
   "execution_count": 43,
   "metadata": {},
   "outputs": [
    {
     "name": "stdout",
     "output_type": "stream",
     "text": [
      "'RESULT: 500'\n",
      "\n",
      "'TIME............................................................'\n",
      "CPU times: user 269 µs, sys: 143 µs, total: 412 µs\n",
      "Wall time: 307 µs\n"
     ]
    }
   ],
   "source": [
    "%%time\n",
    "print_result(sum(frequencies))"
   ]
  },
  {
   "cell_type": "markdown",
   "metadata": {},
   "source": [
    "## part two"
   ]
  },
  {
   "cell_type": "code",
   "execution_count": 44,
   "metadata": {},
   "outputs": [
    {
     "name": "stdout",
     "output_type": "stream",
     "text": [
      "'RESULT: 709'\n",
      "\n",
      "'TIME............................................................'\n",
      "CPU times: user 40.5 ms, sys: 2.31 ms, total: 42.8 ms\n",
      "Wall time: 41.6 ms\n"
     ]
    }
   ],
   "source": [
    "%%time\n",
    "y=set({})\n",
    "current_sum = 0\n",
    "for i in cycle(frequencies):\n",
    "    current_sum+=i\n",
    "    if current_sum in y:\n",
    "        print_result(current_sum)\n",
    "        break\n",
    "    else:\n",
    "        y.add(current_sum)"
   ]
  },
  {
   "cell_type": "markdown",
   "metadata": {},
   "source": [
    "# LEVEL 2"
   ]
  },
  {
   "cell_type": "markdown",
   "metadata": {},
   "source": [
    "## setup"
   ]
  },
  {
   "cell_type": "code",
   "execution_count": 45,
   "metadata": {},
   "outputs": [],
   "source": [
    "input_boxes=get_level_input(2)\n",
    "input_boxes=input_boxes.split('\\n')\n",
    "count_boxes = [collections.Counter(a) for a in input_boxes]"
   ]
  },
  {
   "cell_type": "markdown",
   "metadata": {},
   "source": [
    "## part one"
   ]
  },
  {
   "cell_type": "code",
   "execution_count": 46,
   "metadata": {},
   "outputs": [
    {
     "name": "stdout",
     "output_type": "stream",
     "text": [
      "'RESULT: 6422'\n",
      "\n",
      "'TIME............................................................'\n",
      "CPU times: user 521 µs, sys: 124 µs, total: 645 µs\n",
      "Wall time: 559 µs\n"
     ]
    }
   ],
   "source": [
    "%%time\n",
    "twos=0\n",
    "threes=0\n",
    "for box_id in count_boxes:\n",
    "    if 2 in box_id.values():\n",
    "        twos+=1\n",
    "    if 3 in box_id.values():\n",
    "        threes+=1\n",
    "print_result(str(twos*threes))"
   ]
  },
  {
   "cell_type": "markdown",
   "metadata": {},
   "source": [
    "## part two"
   ]
  },
  {
   "cell_type": "code",
   "execution_count": 47,
   "metadata": {},
   "outputs": [
    {
     "name": "stdout",
     "output_type": "stream",
     "text": [
      "'RESULT: qcslyvphgkrmdawljuefotxbh'\n",
      "\n",
      "'TIME............................................................'\n"
     ]
    }
   ],
   "source": [
    "%%time\n",
    "for i, box_one in enumerate(input_boxes):\n",
    "    for box_two in input_boxes[i+1:]:\n",
    "        diff=0\n",
    "        wrong_letter_index=0\n",
    "        for j in range(len(box_one)):\n",
    "            if box_one[j]==box_two[j]: continue\n",
    "            diff+=1\n",
    "            wrong_letter_index=j\n",
    "            if(diff>1): break\n",
    "        if(diff==1): \n",
    "            print_result(box_one[:wrong_letter_index]+box_one[wrong_letter_index+1:])\n",
    "            raise StopExecution     "
   ]
  },
  {
   "cell_type": "markdown",
   "metadata": {},
   "source": [
    "# LEVEL 3"
   ]
  },
  {
   "cell_type": "markdown",
   "metadata": {},
   "source": [
    "## setup"
   ]
  },
  {
   "cell_type": "code",
   "execution_count": 48,
   "metadata": {},
   "outputs": [],
   "source": [
    "fabric_list=get_level_input(3).splitlines()\n",
    "fabric_list=[x.split(\" \") for x in fabric_list]"
   ]
  },
  {
   "cell_type": "markdown",
   "metadata": {},
   "source": [
    "## part one"
   ]
  },
  {
   "cell_type": "code",
   "execution_count": 49,
   "metadata": {},
   "outputs": [
    {
     "name": "stdout",
     "output_type": "stream",
     "text": [
      "'RESULT: 101565'\n",
      "\n",
      "'TIME............................................................'\n",
      "CPU times: user 1.54 s, sys: 6.04 ms, total: 1.55 s\n",
      "Wall time: 1.55 s\n"
     ]
    }
   ],
   "source": [
    "%%time\n",
    "fabric=np.zeros((1000,1000))\n",
    "for i in fabric_list:\n",
    "    dim=tuple([int(z) for z in i[2][:-1].split(\",\")])\n",
    "    size=tuple([int(z) for z in i[3].split(\"x\")])\n",
    "    fabric[dim[0]:dim[0]+size[0],dim[1]:dim[1]+size[1]]+=1\n",
    "    NUM_SINGLE_USED=(fabric > 1).sum()\n",
    "print_result(NUM_SINGLE_USED)"
   ]
  },
  {
   "cell_type": "markdown",
   "metadata": {},
   "source": [
    "## part two"
   ]
  },
  {
   "cell_type": "code",
   "execution_count": 50,
   "metadata": {},
   "outputs": [
    {
     "name": "stdout",
     "output_type": "stream",
     "text": [
      "'RESULT: #656'\n",
      "\n",
      "'TIME............................................................'\n",
      "CPU times: user 15.5 ms, sys: 3.31 ms, total: 18.8 ms\n",
      "Wall time: 15.9 ms\n"
     ]
    }
   ],
   "source": [
    "%%time\n",
    "for i in fabric_list:\n",
    "    dim=tuple([int(z) for z in i[2][:-1].split(\",\")])\n",
    "    size=tuple([int(z) for z in i[3].split(\"x\")])\n",
    "    if((fabric[dim[0]:dim[0]+size[0],dim[1]:dim[1]+size[1]]==1).all()):\n",
    "        print_result(i[0])"
   ]
  },
  {
   "cell_type": "markdown",
   "metadata": {},
   "source": [
    "# LEVEL 4"
   ]
  },
  {
   "cell_type": "markdown",
   "metadata": {},
   "source": [
    "## setup"
   ]
  },
  {
   "cell_type": "code",
   "execution_count": 51,
   "metadata": {},
   "outputs": [],
   "source": [
    "guards = get_level_input(4)\n",
    "guards = guards.splitlines()\n",
    "guards.sort()\n",
    "guards = [[x[0][-2:], x[1][1:]] for x in [j.split(']') for j in guards]]"
   ]
  },
  {
   "cell_type": "markdown",
   "metadata": {},
   "source": [
    "## part one"
   ]
  },
  {
   "cell_type": "code",
   "execution_count": 52,
   "metadata": {
    "scrolled": true
   },
   "outputs": [
    {
     "name": "stdout",
     "output_type": "stream",
     "text": [
      "'RESULT: 102688'\n",
      "\n",
      "'TIME............................................................'\n",
      "CPU times: user 3.78 ms, sys: 394 µs, total: 4.17 ms\n",
      "Wall time: 3.82 ms\n"
     ]
    }
   ],
   "source": [
    "%%time\n",
    "\n",
    "cur_guard=0\n",
    "guard_to_min={}\n",
    "for i, log in enumerate(guards):\n",
    "    if(log[1][0]=='G'):\n",
    "        cur_guard=int(log[1].split(\" \")[1][1:])\n",
    "        if cur_guard not in guard_to_min.keys():\n",
    "            guard_to_min[cur_guard]=np.zeros(60)\n",
    "    elif(log[1][0]=='f'):\n",
    "        if(int(log[0])<int(guards[i+1][0])):\n",
    "            guard_to_min[cur_guard][int(log[0]):int(guards[i+1][0])]+=1\n",
    "        else:\n",
    "            guard_to_min[cur_guard][int(log[0]):]+=1\n",
    "            guard_to_min[cur_guard][:int(guards[i+1][0])]+=1\n",
    "m = max([sum(v) for v in guard_to_min.values()])\n",
    "\n",
    "for key,value in guard_to_min.items():\n",
    "    if( m==sum(value)):\n",
    "        print_result(list(value).index(max(value))*key)"
   ]
  },
  {
   "cell_type": "markdown",
   "metadata": {},
   "source": [
    "## part two"
   ]
  },
  {
   "cell_type": "code",
   "execution_count": 53,
   "metadata": {},
   "outputs": [
    {
     "name": "stdout",
     "output_type": "stream",
     "text": [
      "'RESULT: 56901'\n",
      "\n",
      "'TIME............................................................'\n",
      "CPU times: user 3.55 ms, sys: 457 µs, total: 4 ms\n",
      "Wall time: 3.59 ms\n"
     ]
    }
   ],
   "source": [
    "%%time\n",
    "\n",
    "cur_guard=0\n",
    "guard_to_min={}\n",
    "for i, log in enumerate(guards):\n",
    "    if(log[1][0]=='G'):\n",
    "        cur_guard=int(log[1].split(\" \")[1][1:])\n",
    "        if cur_guard not in guard_to_min.keys():\n",
    "            guard_to_min[cur_guard]=np.zeros(60)\n",
    "    elif(log[1][0]=='f'):\n",
    "        if(int(log[0])<int(guards[i+1][0])):\n",
    "            guard_to_min[cur_guard][int(log[0]):int(guards[i+1][0])]+=1\n",
    "        else:\n",
    "            guard_to_min[cur_guard][int(log[0]):]+=1\n",
    "            guard_to_min[cur_guard][:int(guards[i+1][0])]+=1\n",
    "m = max(i for v in guard_to_min.values() for i in v)\n",
    "\n",
    "for key,value in guard_to_min.items():\n",
    "    if( m in value ):\n",
    "        print_result(list(value).index(m)*key)"
   ]
  },
  {
   "cell_type": "markdown",
   "metadata": {},
   "source": [
    "# LEVEL 5"
   ]
  },
  {
   "cell_type": "markdown",
   "metadata": {},
   "source": [
    "## setup"
   ]
  },
  {
   "cell_type": "code",
   "execution_count": 54,
   "metadata": {},
   "outputs": [],
   "source": [
    "polymers=get_level_input(5)"
   ]
  },
  {
   "cell_type": "markdown",
   "metadata": {},
   "source": [
    "## part one"
   ]
  },
  {
   "cell_type": "code",
   "execution_count": 55,
   "metadata": {},
   "outputs": [
    {
     "name": "stdout",
     "output_type": "stream",
     "text": [
      "9202\n",
      "CPU times: user 85.5 ms, sys: 4.08 ms, total: 89.6 ms\n",
      "Wall time: 88.7 ms\n"
     ]
    }
   ],
   "source": [
    "%%time\n",
    "polymer_temp=polymers\n",
    "i=0\n",
    "while i!=len(polymer_temp)-1:\n",
    "    if(abs(ord(polymer_temp[i])-ord(polymer_temp[i+1]))==32):\n",
    "        polymer_temp=polymer_temp[0:i]+polymer_temp[i+2:]\n",
    "        i=max(0,i-1)\n",
    "    else:\n",
    "        i+=1\n",
    "print(len(polymer_temp))"
   ]
  },
  {
   "cell_type": "markdown",
   "metadata": {},
   "source": [
    "## part two"
   ]
  },
  {
   "cell_type": "code",
   "execution_count": 56,
   "metadata": {},
   "outputs": [
    {
     "name": "stdout",
     "output_type": "stream",
     "text": [
      "'RESULT: 6394'\n",
      "\n",
      "'TIME............................................................'\n",
      "CPU times: user 2.14 s, sys: 59.4 ms, total: 2.2 s\n",
      "Wall time: 2.2 s\n"
     ]
    }
   ],
   "source": [
    "%%time\n",
    "scores=[]\n",
    "for letter in lowercase:\n",
    "    polymer_temp=polymers\n",
    "    i=0\n",
    "    polymer_temp=polymer_temp.translate(str.maketrans('', '', letter+letter.upper()))\n",
    "    while i!=len(polymer_temp)-1:\n",
    "        if(abs(ord(polymer_temp[i])-ord(polymer_temp[i+1]))==32):\n",
    "            polymer_temp=polymer_temp[0:i]+polymer_temp[i+2:]\n",
    "            i=max(0,i-1)\n",
    "        else:\n",
    "            i+=1\n",
    "    scores.append(len(polymer_temp))\n",
    "print_result(min(scores))"
   ]
  },
  {
   "cell_type": "markdown",
   "metadata": {},
   "source": [
    "# LEVEL 6"
   ]
  },
  {
   "cell_type": "markdown",
   "metadata": {},
   "source": [
    "## setup"
   ]
  },
  {
   "cell_type": "code",
   "execution_count": 61,
   "metadata": {},
   "outputs": [
    {
     "name": "stdout",
     "output_type": "stream",
     "text": [
      "{(116, 173), (67, 207), (57, 112), (68, 266), (163, 311), (126, 66), (145, 171), (335, 352), (306, 146), (305, 183), (345, 149), (245, 230), (296, 345), (264, 249), (246, 87), (339, 294), (239, 131), (79, 64), (359, 184), (156, 359), (80, 224), (97, 103), (141, 190), (161, 295), (227, 59), (297, 256), (209, 294), (253, 318), (58, 290), (241, 277), (143, 235), (93, 66), (233, 281), (342, 203), (43, 146), (133, 222), (324, 42), (117, 118), (51, 145), (241, 321), (108, 312), (138, 312), (101, 180), (304, 303), (270, 149), (241, 58), (161, 93), (232, 123), (200, 250), (268, 323)}\n"
     ]
    }
   ],
   "source": [
    "coords=get_level_input(6)\n",
    "coords=set([tuple([int(coord.split(\", \")[0]), int(coord.split(\", \")[1])]) for coord in coords.splitlines()])\n",
    "print((coords))\n",
    "\n",
    "def l1(c1, c2):\n",
    "    return abs(c1[0]-c2[0])+abs(c1[1]-c2[1])\n",
    "GRID_SIZE=1000"
   ]
  },
  {
   "cell_type": "code",
   "execution_count": 74,
   "metadata": {},
   "outputs": [
    {
     "name": "stdout",
     "output_type": "stream",
     "text": [
      "{(8, 3), (5, 5), (8, 9), (1, 6), (3, 4), (1, 1)}\n"
     ]
    }
   ],
   "source": [
    "# TEST_COORDS\n",
    "coords= set([(1, 1),(1, 6),(8, 3),(3, 4),(5, 5),(8, 9)])\n",
    "GRID_SIZE=10\n",
    "print(coords)"
   ]
  },
  {
   "cell_type": "markdown",
   "metadata": {},
   "source": [
    "## part one"
   ]
  },
  {
   "cell_type": "markdown",
   "metadata": {},
   "source": [
    "### thoughts\n",
    "\n",
    "- Need to determine which areas are infinite\n",
    "    - are these automatically the points that have the lowest or highest x or y coordinate?\n",
    "- Need to limit scope and calculate each grdp points relation to our coordinates\n",
    "- Assign the minimum distance to a points area score\n",
    "- Pick the point that has the minimum area score that is not infiinite\n",
    "\n",
    "### EPIPHANY\n",
    "CHANGING THE SIZE OF THE GRID WILL NOT CHANGE THE NUMBER OF RESULTS FOR NON-INFINITE OPTIONS. THIS CAN ONLY BE THE CASE FOR NON INF OPTIONS SO TRY TWO GRIDS ONE OF SMALL SIZE, ONF OF LARGER SIZE AND CHOOSE MAX VALUE THAT DOESN\"T CHANGE.\n",
    "\n",
    "**NOTE**: the grid size must expand in all directions for this method to work. This means points need to be recentered\n",
    "\n"
   ]
  },
  {
   "cell_type": "code",
   "execution_count": 112,
   "metadata": {},
   "outputs": [
    {
     "name": "stdout",
     "output_type": "stream",
     "text": [
      "[[0.0, 0.0, 0.0, 0.0, 0.0, 0.0, 0.0, 0.0, 0.0, 0.0],\n",
      " [0.0, 6.0, 0.0, 0.0, 0.0, 0.0, 0.0, 0.0, 0.0, 0.0],\n",
      " [0.0, 0.0, 0.0, 0.0, 0.0, 0.0, 0.0, 0.0, 0.0, 0.0],\n",
      " [0.0, 0.0, 0.0, 0.0, 0.0, 0.0, 0.0, 0.0, 1.0, 0.0],\n",
      " [0.0, 0.0, 0.0, 5.0, 0.0, 0.0, 0.0, 0.0, 0.0, 0.0],\n",
      " [0.0, 0.0, 0.0, 0.0, 0.0, 2.0, 0.0, 0.0, 0.0, 0.0],\n",
      " [0.0, 4.0, 0.0, 0.0, 0.0, 0.0, 0.0, 0.0, 0.0, 0.0],\n",
      " [0.0, 0.0, 0.0, 0.0, 0.0, 0.0, 0.0, 0.0, 0.0, 0.0],\n",
      " [0.0, 0.0, 0.0, 0.0, 0.0, 0.0, 0.0, 0.0, 0.0, 0.0],\n",
      " [0.0, 0.0, 0.0, 0.0, 0.0, 0.0, 0.0, 0.0, 3.0, 0.0]]\n",
      "\n",
      "[[6.0, 6.0, 6.0, 6.0, 6.0, 0.0, 1.0, 1.0, 1.0, 1.0],\n",
      " [6.0, 6.0, 6.0, 6.0, 6.0, 0.0, 1.0, 1.0, 1.0, 1.0],\n",
      " [6.0, 6.0, 6.0, 5.0, 5.0, 2.0, 1.0, 1.0, 1.0, 1.0],\n",
      " [6.0, 6.0, 5.0, 5.0, 5.0, 2.0, 1.0, 1.0, 1.0, 1.0],\n",
      " [0.0, 0.0, 5.0, 5.0, 5.0, 2.0, 2.0, 1.0, 1.0, 1.0],\n",
      " [4.0, 4.0, 0.0, 5.0, 2.0, 2.0, 2.0, 2.0, 1.0, 1.0],\n",
      " [4.0, 4.0, 4.0, 0.0, 2.0, 2.0, 2.0, 2.0, 0.0, 0.0],\n",
      " [4.0, 4.0, 4.0, 0.0, 2.0, 2.0, 2.0, 3.0, 3.0, 3.0],\n",
      " [4.0, 4.0, 4.0, 0.0, 2.0, 2.0, 3.0, 3.0, 3.0, 3.0],\n",
      " [4.0, 4.0, 4.0, 0.0, 3.0, 3.0, 3.0, 3.0, 3.0, 3.0]]\n"
     ]
    }
   ],
   "source": [
    "def get_index_min_l1(pos):\n",
    "    coord_min=[]\n",
    "    for coord in coords:\n",
    "        coord_min.append(l1(coord, pos))\n",
    "    x=np.where(np.array(coord_min) == np.array(coord_min).min())\n",
    "    if(len(x[0])>1): return -1\n",
    "    return x[0]\n",
    "\n",
    "test_grid = np.zeros((GRID_SIZE,GRID_SIZE))\n",
    "for i, coord in enumerate(coords):\n",
    "    test_grid[coord[0], coord[1]]=i+1\n",
    "pprint([list(i) for i in zip(*test_grid)])\n",
    "for i in range(GRID_SIZE):\n",
    "    for j in range(GRID_SIZE):\n",
    "        test_grid[i][j]=get_index_min_l1((i,j))+1\n",
    "print()\n",
    "pprint([list(i) for i in zip(*test_grid)])"
   ]
  },
  {
   "cell_type": "markdown",
   "metadata": {},
   "source": [
    "## part two"
   ]
  },
  {
   "cell_type": "code",
   "execution_count": 77,
   "metadata": {},
   "outputs": [
    {
     "name": "stdout",
     "output_type": "stream",
     "text": [
      "RESULT: 3500\n",
      "\n",
      "time............................................................\n",
      "CPU times: user 68 ms, sys: 2.61 ms, total: 70.6 ms\n",
      "Wall time: 69 ms\n"
     ]
    }
   ],
   "source": [
    "%%time\n",
    "scores=[]\n",
    "for letter in lowercase:\n",
    "    polymer_temp=polymers\n",
    "    i=0\n",
    "    polymer_temp=polymer_temp.translate(str.maketrans('', '', letter+letter.upper()))\n",
    "    while i!=len(polymer_temp)-1:\n",
    "        if(abs(ord(polymer_temp[i])-ord(polymer_temp[i+1]))==32):\n",
    "            polymer_temp=polymer_temp[0:i]+polymer_temp[i+2:]\n",
    "            i=max(0,i-1)\n",
    "        else:\n",
    "            i+=1\n",
    "    scores.append(len(polymer_temp))\n",
    "print_result(min(scores))"
   ]
  },
  {
   "cell_type": "code",
   "execution_count": null,
   "metadata": {},
   "outputs": [],
   "source": []
  }
 ],
 "metadata": {
  "kernelspec": {
   "display_name": "Python 3",
   "language": "python",
   "name": "python3"
  },
  "language_info": {
   "codemirror_mode": {
    "name": "ipython",
    "version": 3
   },
   "file_extension": ".py",
   "mimetype": "text/x-python",
   "name": "python",
   "nbconvert_exporter": "python",
   "pygments_lexer": "ipython3",
   "version": "3.7.4"
  }
 },
 "nbformat": 4,
 "nbformat_minor": 2
}
